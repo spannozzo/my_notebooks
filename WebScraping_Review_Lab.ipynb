{
    "cells": [
        {
            "metadata": {},
            "cell_type": "markdown",
            "source": "<center>\n    <img src=\"https://gitlab.com/ibm/skills-network/courses/placeholder101/-/raw/master/labs/module%201/images/IDSNlogo.png\" width=\"300\" alt=\"cognitiveclass.ai logo\"  />\n</center>\n"
        },
        {
            "metadata": {},
            "cell_type": "markdown",
            "source": "# **Web Scraping Lab**\n"
        },
        {
            "metadata": {},
            "cell_type": "markdown",
            "source": "Estimated time needed: **30** minutes\n"
        },
        {
            "metadata": {},
            "cell_type": "markdown",
            "source": "## Objectives\n"
        },
        {
            "metadata": {},
            "cell_type": "markdown",
            "source": "After completing this lab you will be able to:\n"
        },
        {
            "metadata": {},
            "cell_type": "markdown",
            "source": "<h2>Table of Contents</h2>\n<div class=\"alert alert-block alert-info\" style=\"margin-top: 20px\">\n    <ul>\n        <li>\n            <a href=\"https://bso/?utm_medium=Exinfluencer&utm_source=Exinfluencer&utm_content=000026UJ&utm_term=10006555&utm_id=NA-SkillsNetwork-Channel-SkillsNetworkCoursesIBMDeveloperSkillsNetworkPY0220ENSkillsNetwork23455606-2021-01-01\">Beautiful Soup Object</a>\n            <ul>\n                <li>Tag</li>\n                <li>Children, Parents, and Siblings</li>\n                <li>HTML Attributes</li>\n                <li>Navigable String</li>\n            </ul>\n        </li>\n     </ul>\n    <ul>\n        <li>\n            <a href=\"https://filter/?utm_medium=Exinfluencer&utm_source=Exinfluencer&utm_content=000026UJ&utm_term=10006555&utm_id=NA-SkillsNetwork-Channel-SkillsNetworkCoursesIBMDeveloperSkillsNetworkPY0220ENSkillsNetwork23455606-2021-01-01\">Filter</a>\n            <ul>\n                <li>find All</li>\n                <li>find </li>\n                <li>HTML Attributes</li>\n                <li>Navigable String</li>\n            </ul>\n        </li>\n     </ul>\n     <ul>\n        <li>\n            <a href=\"https://dscw/?utm_medium=Exinfluencer&utm_source=Exinfluencer&utm_content=000026UJ&utm_term=10006555&utm_id=NA-SkillsNetwork-Channel-SkillsNetworkCoursesIBMDeveloperSkillsNetworkPY0220ENSkillsNetwork23455606-2021-01-01\">Downloading And Scraping The Contents Of A Web</a>\n    </li>\n         </ul>\n    <p>\n        Estimated time needed: <strong>25 min</strong>\n    </p>\n\n</div>\n\n<hr>\n"
        },
        {
            "metadata": {},
            "cell_type": "markdown",
            "source": ""
        },
        {
            "metadata": {},
            "cell_type": "markdown",
            "source": "For this lab, we are going to be using Python and several Python libraries. Some of these libraries might be installed in your lab environment or in SN Labs. Others may need to be installed by you. The cells below will install these libraries when executed.\n"
        },
        {
            "metadata": {},
            "cell_type": "code",
            "source": "!pip install bs4\n#!pip install requests",
            "execution_count": 1,
            "outputs": [
                {
                    "output_type": "stream",
                    "text": "Collecting bs4\n  Downloading bs4-0.0.1.tar.gz (1.1 kB)\nRequirement already satisfied: beautifulsoup4 in /opt/conda/envs/Python-3.8-main/lib/python3.8/site-packages (from bs4) (4.9.3)\nRequirement already satisfied: soupsieve>1.2 in /opt/conda/envs/Python-3.8-main/lib/python3.8/site-packages (from beautifulsoup4->bs4) (2.2.1)\nBuilding wheels for collected packages: bs4\n  Building wheel for bs4 (setup.py) ... \u001b[?25ldone\n\u001b[?25h  Created wheel for bs4: filename=bs4-0.0.1-py3-none-any.whl size=1273 sha256=dbdb772ea70f802b315999cd1228dd9154100c383fcb7e1fc8e44450c64ec9b4\n  Stored in directory: /tmp/wsuser/.cache/pip/wheels/75/78/21/68b124549c9bdc94f822c02fb9aa3578a669843f9767776bca\nSuccessfully built bs4\nInstalling collected packages: bs4\nSuccessfully installed bs4-0.0.1\n",
                    "name": "stdout"
                }
            ]
        },
        {
            "metadata": {},
            "cell_type": "markdown",
            "source": "Import the required modules and functions\n"
        },
        {
            "metadata": {},
            "cell_type": "code",
            "source": "from bs4 import BeautifulSoup # this module helps in web scrapping.\nimport requests  # this module helps us to download a web page",
            "execution_count": 2,
            "outputs": []
        },
        {
            "metadata": {},
            "cell_type": "markdown",
            "source": "<h2 id=\"BSO\">Beautiful Soup Objects</h2>\n"
        },
        {
            "metadata": {},
            "cell_type": "markdown",
            "source": "Beautiful Soup is a Python library for pulling data out of HTML and XML files, we will focus on HTML files. This is accomplished by representing the HTML as a set of objects with methods used to parse the HTML.  We can navigate the HTML as a tree and/or filter out what we are looking for.\n\nConsider the following HTML:\n"
        },
        {
            "metadata": {},
            "cell_type": "code",
            "source": "%%html\n<!DOCTYPE html>\n<html>\n<head>\n<title>Page Title</title>\n</head>\n<body>\n<h3><b id='boldest'>Lebron James</b></h3>\n<p> Salary: $ 92,000,000 </p>\n<h3> Stephen Curry</h3>\n<p> Salary: $85,000, 000 </p>\n<h3> Kevin Durant </h3>\n<p> Salary: $73,200, 000</p>\n</body>\n</html>",
            "execution_count": 3,
            "outputs": [
                {
                    "output_type": "display_data",
                    "data": {
                        "text/plain": "<IPython.core.display.HTML object>",
                        "text/html": "<!DOCTYPE html>\n<html>\n<head>\n<title>Page Title</title>\n</head>\n<body>\n<h3><b id='boldest'>Lebron James</b></h3>\n<p> Salary: $ 92,000,000 </p>\n<h3> Stephen Curry</h3>\n<p> Salary: $85,000, 000 </p>\n<h3> Kevin Durant </h3>\n<p> Salary: $73,200, 000</p>\n</body>\n</html>\n"
                    },
                    "metadata": {}
                }
            ]
        },
        {
            "metadata": {},
            "cell_type": "markdown",
            "source": "We can store it as a string in the variable HTML:\n"
        },
        {
            "metadata": {},
            "cell_type": "code",
            "source": "html=\"<!DOCTYPE html><html><head><title>Page Title</title></head><body><h3><b id='boldest'>Lebron James</b></h3><p> Salary: $ 92,000,000 </p><h3> Stephen Curry</h3><p> Salary: $85,000, 000 </p><h3> Kevin Durant </h3><p> Salary: $73,200, 000</p></body></html>\"",
            "execution_count": 4,
            "outputs": []
        },
        {
            "metadata": {},
            "cell_type": "markdown",
            "source": "To parse a document, pass it into the <code>BeautifulSoup</code> constructor, the <code>BeautifulSoup</code> object, which represents the document as a nested data structure:\n"
        },
        {
            "metadata": {},
            "cell_type": "code",
            "source": "soup = BeautifulSoup(html, 'html5lib')",
            "execution_count": 5,
            "outputs": []
        },
        {
            "metadata": {},
            "cell_type": "markdown",
            "source": "First, the document is converted to Unicode, (similar to ASCII),  and HTML entities are converted to Unicode characters. Beautiful Soup transforms a complex HTML document into a complex tree of Python objects. The <code>BeautifulSoup</code> object can create other types of objects. In this lab, we will cover <code>BeautifulSoup</code> and <code>Tag</code> objects that for the purposes of this lab are identical, and <code>NavigableString</code> objects.\n"
        },
        {
            "metadata": {},
            "cell_type": "markdown",
            "source": "We can use the method <code>prettify()</code> to display the HTML in the nested structure:\n"
        },
        {
            "metadata": {},
            "cell_type": "code",
            "source": "print(soup.prettify())",
            "execution_count": 6,
            "outputs": [
                {
                    "output_type": "stream",
                    "text": "<!DOCTYPE html>\n<html>\n <head>\n  <title>\n   Page Title\n  </title>\n </head>\n <body>\n  <h3>\n   <b id=\"boldest\">\n    Lebron James\n   </b>\n  </h3>\n  <p>\n   Salary: $ 92,000,000\n  </p>\n  <h3>\n   Stephen Curry\n  </h3>\n  <p>\n   Salary: $85,000, 000\n  </p>\n  <h3>\n   Kevin Durant\n  </h3>\n  <p>\n   Salary: $73,200, 000\n  </p>\n </body>\n</html>\n",
                    "name": "stdout"
                }
            ]
        },
        {
            "metadata": {},
            "cell_type": "markdown",
            "source": "## Tags\n"
        },
        {
            "metadata": {},
            "cell_type": "markdown",
            "source": "Let's say we want the  title of the page and the name of the top paid player we can use the <code>Tag</code>. The <code>Tag</code> object corresponds to an HTML tag in the original document, for example, the tag title.\n"
        },
        {
            "metadata": {},
            "cell_type": "code",
            "source": "tag_object=soup.title\nprint(\"tag object:\",tag_object)",
            "execution_count": 7,
            "outputs": [
                {
                    "output_type": "stream",
                    "text": "tag object: <title>Page Title</title>\n",
                    "name": "stdout"
                }
            ]
        },
        {
            "metadata": {},
            "cell_type": "markdown",
            "source": "we can see the tag type <code>bs4.element.Tag</code>\n"
        },
        {
            "metadata": {},
            "cell_type": "code",
            "source": "print(\"tag object type:\",type(tag_object))",
            "execution_count": 8,
            "outputs": [
                {
                    "output_type": "stream",
                    "text": "tag object type: <class 'bs4.element.Tag'>\n",
                    "name": "stdout"
                }
            ]
        },
        {
            "metadata": {},
            "cell_type": "markdown",
            "source": "If there is more than one <code>Tag</code>  with the same name, the first element with that <code>Tag</code> name is called, this corresponds to the most paid player:\n"
        },
        {
            "metadata": {},
            "cell_type": "code",
            "source": "tag_object=soup.h3\ntag_object",
            "execution_count": 9,
            "outputs": [
                {
                    "output_type": "execute_result",
                    "execution_count": 9,
                    "data": {
                        "text/plain": "<h3><b id=\"boldest\">Lebron James</b></h3>"
                    },
                    "metadata": {}
                }
            ]
        },
        {
            "metadata": {},
            "cell_type": "markdown",
            "source": "Enclosed in the bold attribute <code>b</code>, it helps to use the tree representation. We can navigate down the tree using the child attribute to get the name.\n"
        },
        {
            "metadata": {},
            "cell_type": "markdown",
            "source": "### Children, Parents, and Siblings\n"
        },
        {
            "metadata": {},
            "cell_type": "markdown",
            "source": "As stated above the <code>Tag</code> object is a tree of objects we can access the child of the tag or navigate down the branch as follows:\n"
        },
        {
            "metadata": {},
            "cell_type": "code",
            "source": "tag_child =tag_object.b\ntag_child",
            "execution_count": 10,
            "outputs": [
                {
                    "output_type": "execute_result",
                    "execution_count": 10,
                    "data": {
                        "text/plain": "<b id=\"boldest\">Lebron James</b>"
                    },
                    "metadata": {}
                }
            ]
        },
        {
            "metadata": {},
            "cell_type": "markdown",
            "source": "You can access the parent with the <code> parent</code>\n"
        },
        {
            "metadata": {},
            "cell_type": "code",
            "source": "parent_tag=tag_child.parent\nparent_tag",
            "execution_count": 11,
            "outputs": [
                {
                    "output_type": "execute_result",
                    "execution_count": 11,
                    "data": {
                        "text/plain": "<h3><b id=\"boldest\">Lebron James</b></h3>"
                    },
                    "metadata": {}
                }
            ]
        },
        {
            "metadata": {},
            "cell_type": "markdown",
            "source": "this is identical to\n"
        },
        {
            "metadata": {},
            "cell_type": "code",
            "source": "tag_object",
            "execution_count": 12,
            "outputs": [
                {
                    "output_type": "execute_result",
                    "execution_count": 12,
                    "data": {
                        "text/plain": "<h3><b id=\"boldest\">Lebron James</b></h3>"
                    },
                    "metadata": {}
                }
            ]
        },
        {
            "metadata": {},
            "cell_type": "markdown",
            "source": "<code>tag_object</code> parent is the <code>body</code> element.\n"
        },
        {
            "metadata": {},
            "cell_type": "code",
            "source": "tag_object.parent",
            "execution_count": 13,
            "outputs": [
                {
                    "output_type": "execute_result",
                    "execution_count": 13,
                    "data": {
                        "text/plain": "<body><h3><b id=\"boldest\">Lebron James</b></h3><p> Salary: $ 92,000,000 </p><h3> Stephen Curry</h3><p> Salary: $85,000, 000 </p><h3> Kevin Durant </h3><p> Salary: $73,200, 000</p></body>"
                    },
                    "metadata": {}
                }
            ]
        },
        {
            "metadata": {},
            "cell_type": "markdown",
            "source": "<code>tag_object</code> sibling is the <code>paragraph</code> element\n"
        },
        {
            "metadata": {},
            "cell_type": "code",
            "source": "sibling_1=tag_object.next_sibling\nsibling_1",
            "execution_count": 14,
            "outputs": [
                {
                    "output_type": "execute_result",
                    "execution_count": 14,
                    "data": {
                        "text/plain": "<p> Salary: $ 92,000,000 </p>"
                    },
                    "metadata": {}
                }
            ]
        },
        {
            "metadata": {},
            "cell_type": "markdown",
            "source": "`sibling_2` is the `header` element which is also a sibling of both `sibling_1` and `tag_object`\n"
        },
        {
            "metadata": {},
            "cell_type": "code",
            "source": "sibling_2=sibling_1.next_sibling\nsibling_2",
            "execution_count": 15,
            "outputs": [
                {
                    "output_type": "execute_result",
                    "execution_count": 15,
                    "data": {
                        "text/plain": "<h3> Stephen Curry</h3>"
                    },
                    "metadata": {}
                }
            ]
        },
        {
            "metadata": {},
            "cell_type": "markdown",
            "source": "<h3 id=\"first_question\">Exercise: <code>next_sibling</code></h3>\n"
        },
        {
            "metadata": {},
            "cell_type": "markdown",
            "source": "Using the object <code>sibling\\_2</code> and the property <code>next_sibling</code> to find the salary of Stephen Curry:\n"
        },
        {
            "metadata": {},
            "cell_type": "code",
            "source": "tag_object = soup.body.p\n#print(tag_object)\nsibling_x = tag_object.next_sibling\n#print(sibling_x)\nsibling_x = sibling_x.next_sibling\nprint(sibling_x)",
            "execution_count": 28,
            "outputs": [
                {
                    "output_type": "stream",
                    "text": "<p> Salary: $85,000, 000 </p>\n",
                    "name": "stdout"
                }
            ]
        },
        {
            "metadata": {},
            "cell_type": "markdown",
            "source": "<details><summary>Click here for the solution</summary>\n\n```\nsibling_2.next_sibling\n\n```\n\n</details>\n"
        },
        {
            "metadata": {},
            "cell_type": "markdown",
            "source": "### HTML Attributes\n"
        },
        {
            "metadata": {},
            "cell_type": "markdown",
            "source": "If the tag has attributes, the tag <code>id=\"boldest\"</code> has an attribute <code>id</code> whose value is <code>boldest</code>. You can access a tag\u2019s attributes by treating the tag like a dictionary:\n"
        },
        {
            "metadata": {},
            "cell_type": "code",
            "source": "print(tag_child)\ntag_child['id']",
            "execution_count": 30,
            "outputs": [
                {
                    "output_type": "stream",
                    "text": "<b id=\"boldest\">Lebron James</b>\n",
                    "name": "stdout"
                },
                {
                    "output_type": "execute_result",
                    "execution_count": 30,
                    "data": {
                        "text/plain": "'boldest'"
                    },
                    "metadata": {}
                }
            ]
        },
        {
            "metadata": {},
            "cell_type": "markdown",
            "source": "You can access that dictionary directly as <code>attrs</code>:\n"
        },
        {
            "metadata": {},
            "cell_type": "code",
            "source": "tag_child.attrs",
            "execution_count": 31,
            "outputs": [
                {
                    "output_type": "execute_result",
                    "execution_count": 31,
                    "data": {
                        "text/plain": "{'id': 'boldest'}"
                    },
                    "metadata": {}
                }
            ]
        },
        {
            "metadata": {},
            "cell_type": "markdown",
            "source": "You can also work with Multi-valued attribute check out <a href=\"https://www.crummy.com/software/BeautifulSoup/bs4/doc/?utm_medium=Exinfluencer&utm_source=Exinfluencer&utm_content=000026UJ&utm_term=10006555&utm_id=NA-SkillsNetwork-Channel-SkillsNetworkCoursesIBMDeveloperSkillsNetworkPY0220ENSkillsNetwork23455606-2021-01-01\">\\[1]</a> for more.\n"
        },
        {
            "metadata": {},
            "cell_type": "markdown",
            "source": "We can also obtain the content if the attribute of the <code>tag</code> using the Python <code>get()</code> method.\n"
        },
        {
            "metadata": {},
            "cell_type": "code",
            "source": "tag_child.get('id')",
            "execution_count": 32,
            "outputs": [
                {
                    "output_type": "execute_result",
                    "execution_count": 32,
                    "data": {
                        "text/plain": "'boldest'"
                    },
                    "metadata": {}
                }
            ]
        },
        {
            "metadata": {},
            "cell_type": "markdown",
            "source": "### Navigable String\n"
        },
        {
            "metadata": {},
            "cell_type": "markdown",
            "source": "A string corresponds to a bit of text or content within a tag. Beautiful Soup uses the <code>NavigableString</code> class to contain this text. In our HTML we can obtain the name of the first player by extracting the sting of the <code>Tag</code> object <code>tag_child</code> as follows:\n"
        },
        {
            "metadata": {},
            "cell_type": "code",
            "source": "tag_string=tag_child.string\ntag_string",
            "execution_count": 33,
            "outputs": [
                {
                    "output_type": "execute_result",
                    "execution_count": 33,
                    "data": {
                        "text/plain": "'Lebron James'"
                    },
                    "metadata": {}
                }
            ]
        },
        {
            "metadata": {},
            "cell_type": "markdown",
            "source": "we can verify the type is Navigable String\n"
        },
        {
            "metadata": {},
            "cell_type": "code",
            "source": "type(tag_string)",
            "execution_count": 34,
            "outputs": [
                {
                    "output_type": "execute_result",
                    "execution_count": 34,
                    "data": {
                        "text/plain": "bs4.element.NavigableString"
                    },
                    "metadata": {}
                }
            ]
        },
        {
            "metadata": {},
            "cell_type": "markdown",
            "source": "A NavigableString is just like a Python string or Unicode string, to be more precise. The main difference is that it also supports some  <code>BeautifulSoup</code> features. We can covert it to sting object in Python:\n"
        },
        {
            "metadata": {},
            "cell_type": "code",
            "source": "unicode_string = str(tag_string)\nunicode_string",
            "execution_count": 35,
            "outputs": [
                {
                    "output_type": "execute_result",
                    "execution_count": 35,
                    "data": {
                        "text/plain": "'Lebron James'"
                    },
                    "metadata": {}
                }
            ]
        },
        {
            "metadata": {},
            "cell_type": "markdown",
            "source": "<h2 id=\"filter\">Filter</h2>\n"
        },
        {
            "metadata": {},
            "cell_type": "markdown",
            "source": "Filters allow you to find complex patterns, the simplest filter is a string. In this section we will pass a string to a different filter method and Beautiful Soup will perform a match against that exact string.  Consider the following HTML of rocket launchs:\n"
        },
        {
            "metadata": {},
            "cell_type": "code",
            "source": "%%html\n<table>\n  <tr>\n    <td id='flight' >Flight No</td>\n    <td>Launch site</td> \n    <td>Payload mass</td>\n   </tr>\n  <tr> \n    <td>1</td>\n    <td><a href='https://en.wikipedia.org/wiki/Florida'>Florida</a></td>\n    <td>300 kg</td>\n  </tr>\n  <tr>\n    <td>2</td>\n    <td><a href='https://en.wikipedia.org/wiki/Texas'>Texas</a></td>\n    <td>94 kg</td>\n  </tr>\n  <tr>\n    <td>3</td>\n    <td><a href='https://en.wikipedia.org/wiki/Florida'>Florida<a> </td>\n    <td>80 kg</td>\n  </tr>\n</table>",
            "execution_count": 36,
            "outputs": [
                {
                    "output_type": "display_data",
                    "data": {
                        "text/plain": "<IPython.core.display.HTML object>",
                        "text/html": "<table>\n  <tr>\n    <td id='flight' >Flight No</td>\n    <td>Launch site</td> \n    <td>Payload mass</td>\n   </tr>\n  <tr> \n    <td>1</td>\n    <td><a href='https://en.wikipedia.org/wiki/Florida'>Florida</a></td>\n    <td>300 kg</td>\n  </tr>\n  <tr>\n    <td>2</td>\n    <td><a href='https://en.wikipedia.org/wiki/Texas'>Texas</a></td>\n    <td>94 kg</td>\n  </tr>\n  <tr>\n    <td>3</td>\n    <td><a href='https://en.wikipedia.org/wiki/Florida'>Florida<a> </td>\n    <td>80 kg</td>\n  </tr>\n</table>\n"
                    },
                    "metadata": {}
                }
            ]
        },
        {
            "metadata": {},
            "cell_type": "markdown",
            "source": "We can store it as a string in the variable <code>table</code>:\n"
        },
        {
            "metadata": {},
            "cell_type": "code",
            "source": "table=\"<table><tr><td id='flight'>Flight No</td><td>Launch site</td> <td>Payload mass</td></tr><tr> <td>1</td><td><a href='https://en.wikipedia.org/wiki/Florida'>Florida<a></td><td>300 kg</td></tr><tr><td>2</td><td><a href='https://en.wikipedia.org/wiki/Texas'>Texas</a></td><td>94 kg</td></tr><tr><td>3</td><td><a href='https://en.wikipedia.org/wiki/Florida'>Florida<a> </td><td>80 kg</td></tr></table>\"",
            "execution_count": 37,
            "outputs": []
        },
        {
            "metadata": {},
            "cell_type": "code",
            "source": "table_bs = BeautifulSoup(table, 'html5lib')",
            "execution_count": 38,
            "outputs": []
        },
        {
            "metadata": {},
            "cell_type": "markdown",
            "source": "## find All\n"
        },
        {
            "metadata": {},
            "cell_type": "markdown",
            "source": "The <code>find_all()</code> method looks through a tag\u2019s descendants and retrieves all descendants that match your filters.\n\n<p>\nThe Method signature for <code>find_all(name, attrs, recursive, string, limit, **kwargs)<c/ode>\n</p>\n"
        },
        {
            "metadata": {},
            "cell_type": "markdown",
            "source": "### Name\n"
        },
        {
            "metadata": {},
            "cell_type": "markdown",
            "source": "When we set the <code>name</code> parameter to a tag name, the method will extract all the tags with that name and its children.\n"
        },
        {
            "metadata": {},
            "cell_type": "code",
            "source": "table_rows=table_bs.find_all('tr')\ntable_rows",
            "execution_count": 39,
            "outputs": [
                {
                    "output_type": "execute_result",
                    "execution_count": 39,
                    "data": {
                        "text/plain": "[<tr><td id=\"flight\">Flight No</td><td>Launch site</td> <td>Payload mass</td></tr>,\n <tr> <td>1</td><td><a href=\"https://en.wikipedia.org/wiki/Florida\">Florida</a><a></a></td><td>300 kg</td></tr>,\n <tr><td>2</td><td><a href=\"https://en.wikipedia.org/wiki/Texas\">Texas</a></td><td>94 kg</td></tr>,\n <tr><td>3</td><td><a href=\"https://en.wikipedia.org/wiki/Florida\">Florida</a><a> </a></td><td>80 kg</td></tr>]"
                    },
                    "metadata": {}
                }
            ]
        },
        {
            "metadata": {},
            "cell_type": "markdown",
            "source": "The result is a Python Iterable just like a list, each element is a <code>tag</code> object:\n"
        },
        {
            "metadata": {},
            "cell_type": "code",
            "source": "first_row =table_rows[0]\nfirst_row",
            "execution_count": 40,
            "outputs": [
                {
                    "output_type": "execute_result",
                    "execution_count": 40,
                    "data": {
                        "text/plain": "<tr><td id=\"flight\">Flight No</td><td>Launch site</td> <td>Payload mass</td></tr>"
                    },
                    "metadata": {}
                }
            ]
        },
        {
            "metadata": {},
            "cell_type": "markdown",
            "source": "The type is <code>tag</code>\n"
        },
        {
            "metadata": {},
            "cell_type": "code",
            "source": "print(type(first_row))",
            "execution_count": 41,
            "outputs": [
                {
                    "output_type": "stream",
                    "text": "<class 'bs4.element.Tag'>\n",
                    "name": "stdout"
                }
            ]
        },
        {
            "metadata": {},
            "cell_type": "markdown",
            "source": "we can obtain the child\n"
        },
        {
            "metadata": {},
            "cell_type": "code",
            "source": "print(first_row.td)\nprint(first_row.td.string)",
            "execution_count": 43,
            "outputs": [
                {
                    "output_type": "stream",
                    "text": "<td id=\"flight\">Flight No</td>\nFlight No\n",
                    "name": "stdout"
                }
            ]
        },
        {
            "metadata": {},
            "cell_type": "markdown",
            "source": "If we iterate through the list, each element corresponds to a row in the table:\n"
        },
        {
            "metadata": {},
            "cell_type": "code",
            "source": "for i,row in enumerate(table_rows):\n    print(\"row\",i,\"is\",row)\n    ",
            "execution_count": 50,
            "outputs": [
                {
                    "output_type": "stream",
                    "text": "row 0 is <tr><td id=\"flight\">Flight No</td><td>Launch site</td> <td>Payload mass</td></tr>\nrow 1 is <tr> <td>1</td><td><a href=\"https://en.wikipedia.org/wiki/Florida\">Florida</a><a></a></td><td>300 kg</td></tr>\nrow 2 is <tr><td>2</td><td><a href=\"https://en.wikipedia.org/wiki/Texas\">Texas</a></td><td>94 kg</td></tr>\nrow 3 is <tr><td>3</td><td><a href=\"https://en.wikipedia.org/wiki/Florida\">Florida</a><a> </a></td><td>80 kg</td></tr>\n",
                    "name": "stdout"
                }
            ]
        },
        {
            "metadata": {},
            "cell_type": "markdown",
            "source": "As <code>row</code> is a <code>cell</code> object, we can apply the method <code>find_all</code> to it and extract table cells in the object <code>cells</code> using the tag <code>td</code>, this is all the children with the name <code>td</code>. The result is a list, each element corresponds to a cell and is a <code>Tag</code> object, we can iterate through this list as well. We can extract the content using the <code>string</code>  attribute.\n"
        },
        {
            "metadata": {},
            "cell_type": "code",
            "source": "for i,row in enumerate(table_rows):\n    print(\"row\",i)\n    cells=row.find_all('td')\n    for j,cell in enumerate(cells):\n        print('colunm',j,\"cell:\",cell)",
            "execution_count": 58,
            "outputs": [
                {
                    "output_type": "stream",
                    "text": "row 0\ncolunm 0 cell: <td id=\"flight\">Flight No</td>\ncolunm 1 cell: <td>Launch site</td>\ncolunm 2 cell: <td>Payload mass</td>\nrow 1\ncolunm 0 cell: <td>1</td>\ncolunm 1 cell: <td><a href=\"https://en.wikipedia.org/wiki/Florida\">Florida</a><a></a></td>\ncolunm 2 cell: <td>300 kg</td>\nrow 2\ncolunm 0 cell: <td>2</td>\ncolunm 1 cell: <td><a href=\"https://en.wikipedia.org/wiki/Texas\">Texas</a></td>\ncolunm 2 cell: <td>94 kg</td>\nrow 3\ncolunm 0 cell: <td>3</td>\ncolunm 1 cell: <td><a href=\"https://en.wikipedia.org/wiki/Florida\">Florida</a><a> </a></td>\ncolunm 2 cell: <td>80 kg</td>\n",
                    "name": "stdout"
                }
            ]
        },
        {
            "metadata": {},
            "cell_type": "markdown",
            "source": "If we use a list we can match against any item in that list.\n"
        },
        {
            "metadata": {},
            "cell_type": "code",
            "source": "list_input=table_bs.find_all(name=[\"tr\", \"td\"])\nlist_input",
            "execution_count": 59,
            "outputs": [
                {
                    "output_type": "execute_result",
                    "execution_count": 59,
                    "data": {
                        "text/plain": "[<tr><td id=\"flight\">Flight No</td><td>Launch site</td> <td>Payload mass</td></tr>,\n <td id=\"flight\">Flight No</td>,\n <td>Launch site</td>,\n <td>Payload mass</td>,\n <tr> <td>1</td><td><a href=\"https://en.wikipedia.org/wiki/Florida\">Florida</a><a></a></td><td>300 kg</td></tr>,\n <td>1</td>,\n <td><a href=\"https://en.wikipedia.org/wiki/Florida\">Florida</a><a></a></td>,\n <td>300 kg</td>,\n <tr><td>2</td><td><a href=\"https://en.wikipedia.org/wiki/Texas\">Texas</a></td><td>94 kg</td></tr>,\n <td>2</td>,\n <td><a href=\"https://en.wikipedia.org/wiki/Texas\">Texas</a></td>,\n <td>94 kg</td>,\n <tr><td>3</td><td><a href=\"https://en.wikipedia.org/wiki/Florida\">Florida</a><a> </a></td><td>80 kg</td></tr>,\n <td>3</td>,\n <td><a href=\"https://en.wikipedia.org/wiki/Florida\">Florida</a><a> </a></td>,\n <td>80 kg</td>]"
                    },
                    "metadata": {}
                }
            ]
        },
        {
            "metadata": {},
            "cell_type": "markdown",
            "source": "## Attributes\n"
        },
        {
            "metadata": {},
            "cell_type": "markdown",
            "source": "If the argument is not recognized it will be turned into a filter on the tag\u2019s attributes. For example the <code>id</code>  argument, Beautiful Soup will filter against each tag\u2019s <code>id</code> attribute. For example, the first <code>td</code> elements have a value of <code>id</code> of <code>flight</code>, therefore we can filter based on that <code>id</code> value.\n"
        },
        {
            "metadata": {},
            "cell_type": "code",
            "source": "table_bs.find_all(id=\"flight\")",
            "execution_count": 60,
            "outputs": [
                {
                    "output_type": "execute_result",
                    "execution_count": 60,
                    "data": {
                        "text/plain": "[<td id=\"flight\">Flight No</td>]"
                    },
                    "metadata": {}
                }
            ]
        },
        {
            "metadata": {},
            "cell_type": "markdown",
            "source": "We can find all the elements that have links to the Florida Wikipedia page:\n"
        },
        {
            "metadata": {},
            "cell_type": "code",
            "source": "list_input=table_bs.find_all(href=\"https://en.wikipedia.org/wiki/Florida\")\nlist_input",
            "execution_count": 61,
            "outputs": [
                {
                    "output_type": "execute_result",
                    "execution_count": 61,
                    "data": {
                        "text/plain": "[<a href=\"https://en.wikipedia.org/wiki/Florida\">Florida</a>,\n <a href=\"https://en.wikipedia.org/wiki/Florida\">Florida</a>]"
                    },
                    "metadata": {}
                }
            ]
        },
        {
            "metadata": {},
            "cell_type": "markdown",
            "source": "If we set the  <code>href</code> attribute to True, regardless of what the value is, the code finds all tags with <code>href</code> value:\n"
        },
        {
            "metadata": {},
            "cell_type": "code",
            "source": "table_bs.find_all(href=True)",
            "execution_count": 62,
            "outputs": [
                {
                    "output_type": "execute_result",
                    "execution_count": 62,
                    "data": {
                        "text/plain": "[<a href=\"https://en.wikipedia.org/wiki/Florida\">Florida</a>,\n <a href=\"https://en.wikipedia.org/wiki/Texas\">Texas</a>,\n <a href=\"https://en.wikipedia.org/wiki/Florida\">Florida</a>]"
                    },
                    "metadata": {}
                }
            ]
        },
        {
            "metadata": {},
            "cell_type": "markdown",
            "source": "There are other methods for dealing with attributes and other related methods; Check out the following <a href='https://www.crummy.com/software/BeautifulSoup/bs4/doc/?utm_medium=Exinfluencer&utm_source=Exinfluencer&utm_content=000026UJ&utm_term=10006555&utm_id=NA-SkillsNetwork-Channel-SkillsNetworkCoursesIBMDeveloperSkillsNetworkPY0220ENSkillsNetwork23455606-2021-01-01#css-selectors'>link</a>\n"
        },
        {
            "metadata": {},
            "cell_type": "markdown",
            "source": "<h3 id=\"exer_type\">Exercise: <code>find_all</code></h3>\n"
        },
        {
            "metadata": {},
            "cell_type": "markdown",
            "source": "Using the logic above, find all the elements without <code>href</code> value\n"
        },
        {
            "metadata": {},
            "cell_type": "code",
            "source": "table_bs.find_all(href=False)",
            "execution_count": 74,
            "outputs": [
                {
                    "output_type": "execute_result",
                    "execution_count": 74,
                    "data": {
                        "text/plain": "[<html><head></head><body><table><tbody><tr><td id=\"flight\">Flight No</td><td>Launch site</td> <td>Payload mass</td></tr><tr> <td>1</td><td><a href=\"https://en.wikipedia.org/wiki/Florida\">Florida</a><a></a></td><td>300 kg</td></tr><tr><td>2</td><td><a href=\"https://en.wikipedia.org/wiki/Texas\">Texas</a></td><td>94 kg</td></tr><tr><td>3</td><td><a href=\"https://en.wikipedia.org/wiki/Florida\">Florida</a><a> </a></td><td>80 kg</td></tr></tbody></table></body></html>,\n <head></head>,\n <body><table><tbody><tr><td id=\"flight\">Flight No</td><td>Launch site</td> <td>Payload mass</td></tr><tr> <td>1</td><td><a href=\"https://en.wikipedia.org/wiki/Florida\">Florida</a><a></a></td><td>300 kg</td></tr><tr><td>2</td><td><a href=\"https://en.wikipedia.org/wiki/Texas\">Texas</a></td><td>94 kg</td></tr><tr><td>3</td><td><a href=\"https://en.wikipedia.org/wiki/Florida\">Florida</a><a> </a></td><td>80 kg</td></tr></tbody></table></body>,\n <table><tbody><tr><td id=\"flight\">Flight No</td><td>Launch site</td> <td>Payload mass</td></tr><tr> <td>1</td><td><a href=\"https://en.wikipedia.org/wiki/Florida\">Florida</a><a></a></td><td>300 kg</td></tr><tr><td>2</td><td><a href=\"https://en.wikipedia.org/wiki/Texas\">Texas</a></td><td>94 kg</td></tr><tr><td>3</td><td><a href=\"https://en.wikipedia.org/wiki/Florida\">Florida</a><a> </a></td><td>80 kg</td></tr></tbody></table>,\n <tbody><tr><td id=\"flight\">Flight No</td><td>Launch site</td> <td>Payload mass</td></tr><tr> <td>1</td><td><a href=\"https://en.wikipedia.org/wiki/Florida\">Florida</a><a></a></td><td>300 kg</td></tr><tr><td>2</td><td><a href=\"https://en.wikipedia.org/wiki/Texas\">Texas</a></td><td>94 kg</td></tr><tr><td>3</td><td><a href=\"https://en.wikipedia.org/wiki/Florida\">Florida</a><a> </a></td><td>80 kg</td></tr></tbody>,\n <tr><td id=\"flight\">Flight No</td><td>Launch site</td> <td>Payload mass</td></tr>,\n <td id=\"flight\">Flight No</td>,\n <td>Launch site</td>,\n <td>Payload mass</td>,\n <tr> <td>1</td><td><a href=\"https://en.wikipedia.org/wiki/Florida\">Florida</a><a></a></td><td>300 kg</td></tr>,\n <td>1</td>,\n <td><a href=\"https://en.wikipedia.org/wiki/Florida\">Florida</a><a></a></td>,\n <a></a>,\n <td>300 kg</td>,\n <tr><td>2</td><td><a href=\"https://en.wikipedia.org/wiki/Texas\">Texas</a></td><td>94 kg</td></tr>,\n <td>2</td>,\n <td><a href=\"https://en.wikipedia.org/wiki/Texas\">Texas</a></td>,\n <td>94 kg</td>,\n <tr><td>3</td><td><a href=\"https://en.wikipedia.org/wiki/Florida\">Florida</a><a> </a></td><td>80 kg</td></tr>,\n <td>3</td>,\n <td><a href=\"https://en.wikipedia.org/wiki/Florida\">Florida</a><a> </a></td>,\n <a> </a>,\n <td>80 kg</td>]"
                    },
                    "metadata": {}
                }
            ]
        },
        {
            "metadata": {},
            "cell_type": "markdown",
            "source": "<details><summary>Click here for the solution</summary>\n\n```\ntable_bs.find_all(href=False)\n\n```\n\n</details>\n"
        },
        {
            "metadata": {},
            "cell_type": "markdown",
            "source": "Using the soup object <code>soup</code>, find the element with the <code>id</code> attribute content set to <code>\"boldest\"</code>.\n"
        },
        {
            "metadata": {},
            "cell_type": "code",
            "source": "soup.find_all(id='boldest')",
            "execution_count": 76,
            "outputs": [
                {
                    "output_type": "execute_result",
                    "execution_count": 76,
                    "data": {
                        "text/plain": "[<b id=\"boldest\">Lebron James</b>]"
                    },
                    "metadata": {}
                }
            ]
        },
        {
            "metadata": {},
            "cell_type": "markdown",
            "source": "<details><summary>Click here for the solution</summary>\n\n```\nsoup.find_all(id=\"boldest\")\n\n```\n\n</details>\n"
        },
        {
            "metadata": {},
            "cell_type": "markdown",
            "source": "### string\n"
        },
        {
            "metadata": {},
            "cell_type": "markdown",
            "source": "With string you can search for strings instead of tags, where we find all the elments with Florida:\n"
        },
        {
            "metadata": {},
            "cell_type": "code",
            "source": "table_bs.find_all(string=\"Florida\")",
            "execution_count": 77,
            "outputs": [
                {
                    "output_type": "execute_result",
                    "execution_count": 77,
                    "data": {
                        "text/plain": "['Florida', 'Florida']"
                    },
                    "metadata": {}
                }
            ]
        },
        {
            "metadata": {},
            "cell_type": "markdown",
            "source": "## find\n"
        },
        {
            "metadata": {},
            "cell_type": "markdown",
            "source": "The <code>find_all()</code> method scans the entire document looking for results, it\u2019s if you are looking for one element you can use the <code>find()</code> method to find the first element in the document. Consider the following two table:\n"
        },
        {
            "metadata": {},
            "cell_type": "code",
            "source": "%%html\n<h3>Rocket Launch </h3>\n\n<p>\n<table class='rocket'>\n  <tr>\n    <td>Flight No</td>\n    <td>Launch site</td> \n    <td>Payload mass</td>\n  </tr>\n  <tr>\n    <td>1</td>\n    <td>Florida</td>\n    <td>300 kg</td>\n  </tr>\n  <tr>\n    <td>2</td>\n    <td>Texas</td>\n    <td>94 kg</td>\n  </tr>\n  <tr>\n    <td>3</td>\n    <td>Florida </td>\n    <td>80 kg</td>\n  </tr>\n</table>\n</p>\n<p>\n\n<h3>Pizza Party  </h3>\n  \n    \n<table class='pizza'>\n  <tr>\n    <td>Pizza Place</td>\n    <td>Orders</td> \n    <td>Slices </td>\n   </tr>\n  <tr>\n    <td>Domino's Pizza</td>\n    <td>10</td>\n    <td>100</td>\n  </tr>\n  <tr>\n    <td>Little Caesars</td>\n    <td>12</td>\n    <td >144 </td>\n  </tr>\n  <tr>\n    <td>Papa John's </td>\n    <td>15 </td>\n    <td>165</td>\n  </tr>\n",
            "execution_count": 78,
            "outputs": [
                {
                    "output_type": "display_data",
                    "data": {
                        "text/plain": "<IPython.core.display.HTML object>",
                        "text/html": "<h3>Rocket Launch </h3>\n\n<p>\n<table class='rocket'>\n  <tr>\n    <td>Flight No</td>\n    <td>Launch site</td> \n    <td>Payload mass</td>\n  </tr>\n  <tr>\n    <td>1</td>\n    <td>Florida</td>\n    <td>300 kg</td>\n  </tr>\n  <tr>\n    <td>2</td>\n    <td>Texas</td>\n    <td>94 kg</td>\n  </tr>\n  <tr>\n    <td>3</td>\n    <td>Florida </td>\n    <td>80 kg</td>\n  </tr>\n</table>\n</p>\n<p>\n\n<h3>Pizza Party  </h3>\n  \n    \n<table class='pizza'>\n  <tr>\n    <td>Pizza Place</td>\n    <td>Orders</td> \n    <td>Slices </td>\n   </tr>\n  <tr>\n    <td>Domino's Pizza</td>\n    <td>10</td>\n    <td>100</td>\n  </tr>\n  <tr>\n    <td>Little Caesars</td>\n    <td>12</td>\n    <td >144 </td>\n  </tr>\n  <tr>\n    <td>Papa John's </td>\n    <td>15 </td>\n    <td>165</td>\n  </tr>\n"
                    },
                    "metadata": {}
                }
            ]
        },
        {
            "metadata": {},
            "cell_type": "markdown",
            "source": "We store the HTML as a Python string and assign <code>two_tables</code>:\n"
        },
        {
            "metadata": {},
            "cell_type": "code",
            "source": "two_tables=\"<h3>Rocket Launch </h3><p><table class='rocket'><tr><td>Flight No</td><td>Launch site</td> <td>Payload mass</td></tr><tr><td>1</td><td>Florida</td><td>300 kg</td></tr><tr><td>2</td><td>Texas</td><td>94 kg</td></tr><tr><td>3</td><td>Florida </td><td>80 kg</td></tr></table></p><p><h3>Pizza Party  </h3><table class='pizza'><tr><td>Pizza Place</td><td>Orders</td> <td>Slices </td></tr><tr><td>Domino's Pizza</td><td>10</td><td>100</td></tr><tr><td>Little Caesars</td><td>12</td><td >144 </td></tr><tr><td>Papa John's </td><td>15 </td><td>165</td></tr>\"",
            "execution_count": 79,
            "outputs": []
        },
        {
            "metadata": {},
            "cell_type": "markdown",
            "source": "We create a <code>BeautifulSoup</code> object  <code>two_tables_bs</code>\n"
        },
        {
            "metadata": {},
            "cell_type": "code",
            "source": "two_tables_bs= BeautifulSoup(two_tables, 'html.parser')",
            "execution_count": 80,
            "outputs": []
        },
        {
            "metadata": {},
            "cell_type": "markdown",
            "source": "We can find the first table using the tag name table\n"
        },
        {
            "metadata": {},
            "cell_type": "code",
            "source": "two_tables_bs.find(\"table\")",
            "execution_count": 81,
            "outputs": [
                {
                    "output_type": "execute_result",
                    "execution_count": 81,
                    "data": {
                        "text/plain": "<table class=\"rocket\"><tr><td>Flight No</td><td>Launch site</td> <td>Payload mass</td></tr><tr><td>1</td><td>Florida</td><td>300 kg</td></tr><tr><td>2</td><td>Texas</td><td>94 kg</td></tr><tr><td>3</td><td>Florida </td><td>80 kg</td></tr></table>"
                    },
                    "metadata": {}
                }
            ]
        },
        {
            "metadata": {},
            "cell_type": "markdown",
            "source": "We can filter on the class attribute to find the second table, but because class is a keyword in Python, we add an underscore.\n"
        },
        {
            "metadata": {},
            "cell_type": "code",
            "source": "two_tables_bs.find(\"table\",class_='pizza')",
            "execution_count": 82,
            "outputs": [
                {
                    "output_type": "execute_result",
                    "execution_count": 82,
                    "data": {
                        "text/plain": "<table class=\"pizza\"><tr><td>Pizza Place</td><td>Orders</td> <td>Slices </td></tr><tr><td>Domino's Pizza</td><td>10</td><td>100</td></tr><tr><td>Little Caesars</td><td>12</td><td>144 </td></tr><tr><td>Papa John's </td><td>15 </td><td>165</td></tr></table>"
                    },
                    "metadata": {}
                }
            ]
        },
        {
            "metadata": {},
            "cell_type": "markdown",
            "source": "<h2 id=\"DSCW\">Downloading And Scraping The Contents Of A Web Page</h2> \n"
        },
        {
            "metadata": {},
            "cell_type": "markdown",
            "source": "We Download the contents of the web page:\n"
        },
        {
            "metadata": {},
            "cell_type": "code",
            "source": "url = \"http://www.ibm.com\"",
            "execution_count": 83,
            "outputs": []
        },
        {
            "metadata": {},
            "cell_type": "markdown",
            "source": "We use <code>get</code> to download the contents of the webpage in text format and store in a variable called <code>data</code>:\n"
        },
        {
            "metadata": {},
            "cell_type": "code",
            "source": "data  = requests.get(url).text ",
            "execution_count": 85,
            "outputs": []
        },
        {
            "metadata": {},
            "cell_type": "markdown",
            "source": "We create a <code>BeautifulSoup</code> object using the <code>BeautifulSoup</code> constructor\n"
        },
        {
            "metadata": {},
            "cell_type": "code",
            "source": "soup = BeautifulSoup(data,\"html5lib\")  # create a soup object using the variable 'data'",
            "execution_count": 86,
            "outputs": []
        },
        {
            "metadata": {},
            "cell_type": "markdown",
            "source": "Scrape all links\n"
        },
        {
            "metadata": {},
            "cell_type": "code",
            "source": "for link in soup.find_all('a',href=True):  # in html anchor/link is represented by the tag <a>\n\n    print(link.get('href'))\n",
            "execution_count": 87,
            "outputs": [
                {
                    "output_type": "stream",
                    "text": "https://www.ibm.com/de/de\n\nhttps://www.ibm.com/de-de/products?lnk=hpmps_bupr_dede&lnk2=link\nhttps://www.ibm.com/de-de/industries?lnk=hpmps_buin_dede&lnk2=link\nhttps://www.ibm.com/de-de/artificial-intelligence?lnk=hpmps_buai_dede&lnk2=link\nhttps://www.ibm.com/de-de/automation?lnk=hpmps_buau_dede&lnk2=link\nhttps://www.ibm.com/de-de/blockchain?lnk=hpmps_bubc_dede&lnk2=link\nhttps://www.ibm.com/de-de/business-operations?lnk=hpmps_buop_dede&lnk2=link\nhttps://www.ibm.com/de-de/cloud?lnk=hpmps_bucl_dede&lnk2=link\nhttps://www.ibm.com/de-de/analytics?lnk=hpmps_buda_dede&lnk2=link\nhttps://www.ibm.com/de-de/it-infrastructure?lnk=hpmps_buit_dede&lnk2=link\nhttps://www.ibm.com/de-de/security?lnk=hpmps_buse_dede&lnk2=link\nhttps://www.ibm.com/de-de/supply-chain?lnk=hpmps_busc_dede&lnk2=link\nhttps://www.ibm.com/de-de/financing?lnk=hpmps_bufi_dede&lnk2=link\nhttps://www.ibm.com/de-de/products?lnk=hpmps_buall_dede&lnk2=link\n\nhttps://www.ibm.com/de-de/consulting?lnk=hpmsc_buco_dede&lnk2=learn\nhttps://www.ibm.com/de-de/services/process?lnk=hpmsc_bups_dede&lnk2=link\nhttps://www.ibm.com/services/de-de/ibmix/?lnk=hpmsc_budbs_dede&lnk2=link\nhttps://www.ibm.com/de-de/cloud/services?lnk=hpmsc_buhs_dede\nhttps://www.ibm.com/de-de/talent-management?lnk=hpmsc_buta_dede&lnk2=link\nhttps://www.ibm.com/de-de/services/applications?lnk=hpmsc_buas_dede&lnk2=link\nhttps://www.ibm.com/de-de/security/services?lnk=hpmsc_buse_dede&lnk2=link\nhttps://www.ibm.com/de-de/services/technology-support?lnk=hpmsc_busv_dede&lnk2=link\nhttps://www.ibm.com/de-de/financing/solutions/it-services-financing?lnk=hpmsc_bufi_dede&lnk2=link\nhttps://www.ibm.com/de-de/services?lnk=hpmsc_buall_dede&lnk2=link\n\nhttps://www.ibm.com/support/de/de/?lnk=hpmls_busu_dede&lnk2=link\nhttps://www.ibm.com/support/knowledgecenter/?lnk=hpmls_budc_dede&lnk2=link\nhttps://developer.ibm.com/?lnk=hpmls_bude_dede&lnk2=link\nhttps://www.ibm.com/training/?lnk=hpmls_butr_dede&lnk2=link\nhttps://www.ibm.com/blogs/?lnk=hpmls_bure_dede&lnk2=link\nhttps://www.ibm.com/cloud/learn?lnk=hpmls_buwi_dede&lnk2=link\n\nhttps://www.ibm.com/de-de/partnerworld/public?lnk=hpmex_bupa_dede&lnk2=link\nhttps://www.research.ibm.com/?lnk=hpmex_bure_dede&lnk2=link\nhttps://www.ibm.com/de-de/about?lnk=hpmex_buab_dede&lnk2=link\nhttps://www.ibm.com/de-de/impact/covid-19?lnk=hpmex_buco_dede&lnk2=link\nhttps://www.ibm.com/sitemap/de/de\nhttps://www.ibm.com/de-de/consulting?lnk=dehpv18l1\nhttps://www.ibm.com/blogs/digitale-perspektive/2021/09/studie-kosten-datenschutzverletzung-2021/?lnk=dehpv18nf1\nhttps://www.ibm.com/de-de/products/environmental-intelligence-suite?lnk=dehpv18f1\nhttps://www.ibm.com/blogs/think/de-de/2021/10/wissensmanagement-im-unternehmen/?lnk=dehpv18f2\nhttps://app.tools.ibm.com/event/thinksummitdach?lnk=dehpv18f3\nhttps://www.ibm.com/blogs/think/de-de/2021/10/cloud-im-mittelstand/?lnk=dehpv18f4\nhttps://www.ibm.com/thought-leadership/institute-business-value/report/sustainability-consumer-products-retail?lnk=dehpv18f5\nhttps://www.ibm.com/cloud/openshift/get-started?lnk=STW_DE_HPT_T1_BLK&lnk2=trial_RedHatOpenShift&psrc=none&pexp=def\nhttps://www.ibm.com/de-de/cloud/watson-assistant?lnk=STW_DE_HPT_T2_BLK&lnk2=trial_WatAssist&psrc=none&pexp=def\nhttps://www.ibm.com/de-de/cloud/cloud-pak-for-automation?lnk=STW_DE_HPT_T3_BLK&lnk2=trial_CloudPakAtm&psrc=none&pexp=def\nhttps://www.ibm.com/de-de/security/identity-access-management/cloud-identity?lnk=STW_DE_HPT_T4_BLK&lnk2=trial_Verify&psrc=none&pexp=def\n/products/digital-learning-subscription/pricing?lnk=dehpv18t5\nhttps://developer.ibm.com/depmodels/cloud/?lnk=hpv18ct16\nhttps://developer.ibm.com/technologies/artificial-intelligence?lnk=hpv18ct19\nhttps://www.ibm.com/demos/?lnk=hpv18ct12\nhttps://developer.ibm.com/?lnk=hpv18ct9\nhttps://www.ibm.com/docs/en?lnk=hpv18ct14\nhttps://www.redbooks.ibm.com/?lnk=ushpv18ct10\nhttps://www.ibm.com/support/home/?lnk=hpv18ct11\nhttps://www.ibm.com/training/?lnk=hpv18ct15\n/de-de/cloud/hybrid?lnk=hpv18pt14\n/cloud/learn/public-cloud?lnk=hpv18ct1\n/de-de/watson?lnk=ushpv18pt17\n/de-de/garage?lnk=hpv18pt13\n/de-de/blockchain?lnk=hpv18pt4\nhttps://www.ibm.com/thought-leadership/institute-business-value/?lnk=hpv18pt12\n/de-de/analytics?lnk=hpv18pt1\n/de-de/security?lnk=hpv18pt9\n/de-de/financing?lnk=hpv18pt3\nhttps://www.ibm.com/de-de/quantum-computing?lnk=hpv18pt16\n/de-de/cloud/hybrid?lnk=hpv18ct20\n/cloud/learn/public-cloud?lnk=hpv18ct1\n/de-de/cloud/redhat?lnk=hpv18ct13\n/de-de/watson?lnk=hpv18ct3\nhttps://www.ibm.com/de-de/quantum-computing?lnk=hpv18ct18\n/cloud/learn/kubernetes?lnk=hpv18ct8\n/de-de/products/spss-statistics?lnk=ushpv18ct7\n/de-de/blockchain?lnk=hpv18ct1\nhttps://www.ibm.com/de-de/employment?lnk=hpv18ct2\nhttps://www.ibm.com/case-studies/coca-cola-european-partners/?lnk=hpv18cs1\n/case-studies/search?lnk=hpv18cs2\nhttps://www.ibm.com/de-de/products/?lnk=fdi\nhttps://www.ibm.com/software/de/info/trials/?lnk=STW_DE_HPF_THP_FT_TL&lnk2=goto_THP\nhttps://www.ibm.com/de-de/marketplace/collections/offers-and-discounts/?lnk=STW_DE_HPF_DISC_FT_TL&lnk2=goto_MPDISC\nhttps://www.ibm.com/technologyservices/de/de/?lnk=fdi-dede\nhttps://www.ibm.com/de-de/industries\nhttps://www.ibm.com/ibm/clientreference/us/en/?lnk=fdi-dede\nhttps://www.ibm.com/de-de/events?lnk=fdi-dede\nhttps://www.ibm.com/de-de/blogs/think/?lnk=fdi-dede\nhttps://www.ibm.com/marketing/de-de/das-ist-ibm/\nhttps://www.ibm.com/de-de/financing\nhttps://www.ibm.com/developerworks/?lnk=fif-dede\nhttps://www.ibm.com/de-de/partnerworld/public\nhttps://www.ibm.com/partners/start/?lnk=fif-dede\nhttps://www.ibm.com/de-de/consulting?lnk=fco-dede\nhttps://www.ibm.com/support/de/de/?lnk=fcw-dede\nhttps://www.ibm.com/partnerworld/public\nhttps://myibm.ibm.com/dashboard/?lnk=mmi_dede\nhttps://www.ibm.com/ibm/clientcenter/walldorf?lnk=fab-dede\nhttps://www.ibm.com/employment/de-de/?lnk=fab-dede\nhttps://de.newsroom.ibm.com/\nhttps://www.ibm.com/investor/?lnk=fab-dede\nhttps://www.ibm.com/ibm/de/de/?lnk=fab-dede\nhttps://www.ibm.com/ibm/clientcenter/boeblingen/\nhttps://www.ibm.com/internet-of-things/learn/munich-iot-center\nhttps://www.ibm.com/contact/de/de/?lnk=flg-cont-dede\nhttps://www.ibm.com/de-de/privacy?lnk=flg-priv-dede\nhttps://www.ibm.com/de-de/legal?lnk=flg-tous-dede\nhttps://www.ibm.com/able?lnk=flg-able-dede\nhttps://www.ibm.com/ibm/de/de\n#\n",
                    "name": "stdout"
                }
            ]
        },
        {
            "metadata": {},
            "cell_type": "markdown",
            "source": "## Scrape  all images  Tags\n"
        },
        {
            "metadata": {},
            "cell_type": "code",
            "source": "for link in soup.find_all('img'):# in html image is represented by the tag <img>\n    print(link)\n    print(link.get('src'))",
            "execution_count": 88,
            "outputs": [
                {
                    "output_type": "stream",
                    "text": "<img alt=\"Das Bild zeigt die Klimaauswirkungen auf einer Weltkarte\" class=\"\" loading=\"lazy\" src=\"//1.cms.s81c.com/sites/default/files/2021-10-26/20211018-f-environmental-intelligence-suite-26165-444x254.jpg\"/>\n//1.cms.s81c.com/sites/default/files/2021-10-26/20211018-f-environmental-intelligence-suite-26165-444x254.jpg\n<img alt=\"Das Bild zeigt eine Person vor einem Notebook\" class=\"\" loading=\"lazy\" src=\"//1.cms.s81c.com/sites/default/files/2021-10-26/211021_IBM_Wissenmanagement-im-Unternehmen_Header_444x254px.jpg\"/>\n//1.cms.s81c.com/sites/default/files/2021-10-26/211021_IBM_Wissenmanagement-im-Unternehmen_Header_444x254px.jpg\n<img alt=\"DAs Bild zeigt die IBM Think Grafik\" class=\"\" loading=\"lazy\" src=\"//1.cms.s81c.com/sites/default/files/2021-10-19/Think-Summit-Banner_444x254.jpg\"/>\n//1.cms.s81c.com/sites/default/files/2021-10-19/Think-Summit-Banner_444x254.jpg\n<img alt=\"Das Bild zeigt eine Netzgrafik\" class=\"\" loading=\"lazy\" src=\"//1.cms.s81c.com/sites/default/files/2021-10-14/2109xx_IBM_Cloud-Mittelstand_Header_444x254px.jpg\"/>\n//1.cms.s81c.com/sites/default/files/2021-10-14/2109xx_IBM_Cloud-Mittelstand_Header_444x254px.jpg\n<img alt=\"Das Bild zeigt eine Pflanze und mehrere Blument\u00f6pfe aus der Vogelperspektive\" class=\"\" loading=\"lazy\" src=\"//1.cms.s81c.com/sites/default/files/2021-10-14/20211004-f-ibv-last-call-for-sustainability-report-26048-444x254.jpg\"/>\n//1.cms.s81c.com/sites/default/files/2021-10-14/20211004-f-ibv-last-call-for-sustainability-report-26048-444x254.jpg\n<img alt=\"Eine Bildschirmdarstellung der Red Hat OpenShift on IBM Cloud L\u00f6sung\" class=\"\" loading=\"lazy\" src=\"//1.cms.s81c.com/sites/default/files/2021-10-19/OpenShift-Cloud-23811-700x420_7.png\"/>\n//1.cms.s81c.com/sites/default/files/2021-10-19/OpenShift-Cloud-23811-700x420_7.png\n<img alt=\"Gezeigt wird eine Bildschirmdarstellung der IBM Watson Assistant L\u00f6sung\" class=\"\" loading=\"lazy\" src=\"//1.cms.s81c.com/sites/default/files/2021-10-19/Watson-Assistant-23212-700x420.png\"/>\n//1.cms.s81c.com/sites/default/files/2021-10-19/Watson-Assistant-23212-700x420.png\n<img alt=\"Gezeigt wird eine Bildschirmdarstellung der IBM Cloud Pak for Automation L\u00f6sung\" class=\"\" loading=\"lazy\" src=\"//1.cms.s81c.com/sites/default/files/2021-10-19/Cloud-pak-for-automation-444x260.png\"/>\n//1.cms.s81c.com/sites/default/files/2021-10-19/Cloud-pak-for-automation-444x260.png\n<img alt=\"Gezeigt wird eine Bildschirmdarstellung der IBM Security Verify L\u00f6sung\" class=\"\" loading=\"lazy\" src=\"//1.cms.s81c.com/sites/default/files/2021-10-19/cloud-transformation-trial-700x420_7.png\"/>\n//1.cms.s81c.com/sites/default/files/2021-10-19/cloud-transformation-trial-700x420_7.png\n<img alt=\"Das Bild zeigt die IBM Webseite mit den angebotenen IBM Digital Learning Abonnements.\" class=\"\" loading=\"lazy\" src=\"//1.cms.s81c.com/sites/default/files/2021-04-29/ibm-cloud-learning-444x254_0.png\"/>\n//1.cms.s81c.com/sites/default/files/2021-04-29/ibm-cloud-learning-444x254_0.png\n",
                    "name": "stdout"
                }
            ]
        },
        {
            "metadata": {},
            "cell_type": "markdown",
            "source": "## Scrape data from HTML tables\n"
        },
        {
            "metadata": {},
            "cell_type": "code",
            "source": "#The below url contains an html table with data about colors and color codes.\nurl = \"https://cf-courses-data.s3.us.cloud-object-storage.appdomain.cloud/IBM-DA0321EN-SkillsNetwork/labs/datasets/HTMLColorCodes.html\"",
            "execution_count": 89,
            "outputs": []
        },
        {
            "metadata": {},
            "cell_type": "markdown",
            "source": "Before proceeding to scrape a web site, you need to examine the contents, and the way data is organized on the website. Open the above url in your browser and check how many rows and columns are there in the color table.\n"
        },
        {
            "metadata": {},
            "cell_type": "code",
            "source": "# get the contents of the webpage in text format and store in a variable called data\ndata  = requests.get(url).text\n#data",
            "execution_count": 97,
            "outputs": []
        },
        {
            "metadata": {},
            "cell_type": "code",
            "source": "soup = BeautifulSoup(data,\"html5lib\")\n#soup.prettify()",
            "execution_count": 98,
            "outputs": []
        },
        {
            "metadata": {},
            "cell_type": "code",
            "source": "#find a html table in the web page\ntable = soup.find('table') # in html table is represented by the tag <table>\ntable",
            "execution_count": 100,
            "outputs": [
                {
                    "output_type": "execute_result",
                    "execution_count": 100,
                    "data": {
                        "text/plain": "<table border=\"1\" class=\"main-table\">\n   <tbody><tr>\n      <td>Number </td>\n      <td>Color</td>\n      <td>Color Name</td>\n      <td>Hex Code<br/>#RRGGBB</td>\n      <td>Decimal Code<br/>(R,G,B)</td>\n   </tr>\n   <tr>\n      <td>1</td>\n      <td style=\"background:lightsalmon;\">\u00a0</td>\n      <td>lightsalmon</td>\n      <td>#FFA07A</td>\n      <td>rgb(255,160,122)</td>\n   </tr>\n   <tr>\n      <td>2</td>\n      <td style=\"background:salmon;\">\u00a0</td>\n      <td>salmon</td>\n      <td>#FA8072</td>\n      <td>rgb(250,128,114)</td>\n   </tr>\n   <tr>\n      <td>3</td>\n      <td style=\"background:darksalmon;\">\u00a0</td>\n      <td>darksalmon</td>\n      <td>#E9967A</td>\n      <td>rgb(233,150,122)</td>\n   </tr>\n   <tr>\n      <td>4</td>\n      <td style=\"background:lightcoral;\">\u00a0</td>\n      <td>lightcoral</td>\n      <td>#F08080</td>\n      <td>rgb(240,128,128)</td>\n   </tr>\n   <tr>\n      <td>5</td>\n      <td style=\"background:coral;\">\u00a0</td>\n      <td>coral</td>\n      <td>#FF7F50</td>\n      <td>rgb(255,127,80)</td>\n   </tr>\n   <tr>\n      <td>6</td>\n      <td style=\"background:tomato;\">\u00a0</td>\n      <td>tomato</td>\n      <td>#FF6347</td>\n      <td>rgb(255,99,71)</td>\n   </tr>\n   <tr>\n      <td>7</td>\n      <td style=\"background:orangered;\">\u00a0</td>\n      <td>orangered</td>\n      <td>#FF4500</td>\n      <td>rgb(255,69,0)</td>\n   </tr>\n   <tr>\n      <td>8</td>\n      <td style=\"background:gold;\">\u00a0</td>\n      <td>gold</td>\n      <td>#FFD700</td>\n      <td>rgb(255,215,0)</td>\n   </tr>\n   <tr>\n      <td>9</td>\n      <td style=\"background:orange;\">\u00a0</td>\n      <td>orange</td>\n      <td>#FFA500</td>\n      <td>rgb(255,165,0)</td>\n   </tr>\n   <tr>\n      <td>10</td>\n      <td style=\"background:darkorange;\">\u00a0</td>\n      <td>darkorange</td>\n      <td>#FF8C00</td>\n      <td>rgb(255,140,0)</td>\n   </tr>\n   <tr>\n      <td>11</td>\n      <td style=\"background:lightyellow;\">\u00a0</td>\n      <td>lightyellow</td>\n      <td>#FFFFE0</td>\n      <td>rgb(255,255,224)</td>\n   </tr>\n   <tr>\n      <td>12</td>\n      <td style=\"background:lemonchiffon;\">\u00a0</td>\n      <td>lemonchiffon</td>\n      <td>#FFFACD</td>\n      <td>rgb(255,250,205)</td>\n   </tr>\n   <tr>\n      <td>13</td>\n      <td style=\"background:papayawhip;\">\u00a0</td>\n      <td>papayawhip</td>\n      <td>#FFEFD5</td>\n      <td>rgb(255,239,213)</td>\n   </tr>\n   <tr>\n      <td>14</td>\n      <td style=\"background:moccasin;\">\u00a0</td>\n      <td>moccasin</td>\n      <td>#FFE4B5</td>\n      <td>rgb(255,228,181)</td>\n   </tr>\n   <tr>\n      <td>15</td>\n      <td style=\"background:peachpuff;\">\u00a0</td>\n      <td>peachpuff</td>\n      <td>#FFDAB9</td>\n      <td>rgb(255,218,185)</td>\n   </tr>\n   <tr>\n      <td>16</td>\n      <td style=\"background:palegoldenrod;\">\u00a0</td>\n      <td>palegoldenrod</td>\n      <td>#EEE8AA</td>\n      <td>rgb(238,232,170)</td>\n   </tr>\n   <tr>\n      <td>17</td>\n      <td style=\"background:khaki;\">\u00a0</td>\n      <td>khaki</td>\n      <td>#F0E68C</td>\n      <td>rgb(240,230,140)</td>\n   </tr>\n   <tr>\n      <td>18</td>\n      <td style=\"background:darkkhaki;\">\u00a0</td>\n      <td>darkkhaki</td>\n      <td>#BDB76B</td>\n      <td>rgb(189,183,107)</td>\n   </tr>\n   <tr>\n      <td>19</td>\n      <td style=\"background:yellow;\">\u00a0</td>\n      <td>yellow</td>\n      <td>#FFFF00</td>\n      <td>rgb(255,255,0)</td>\n   </tr>\n   <tr>\n      <td>20</td>\n      <td style=\"background:lawngreen;\">\u00a0</td>\n      <td>lawngreen</td>\n      <td>#7CFC00</td>\n      <td>rgb(124,252,0)</td>\n   </tr>\n   <tr>\n      <td>21</td>\n      <td style=\"background:chartreuse;\">\u00a0</td>\n      <td>chartreuse</td>\n      <td>#7FFF00</td>\n      <td>rgb(127,255,0)</td>\n   </tr>\n   <tr>\n      <td>22</td>\n      <td style=\"background:limegreen;\">\u00a0</td>\n      <td>limegreen</td>\n      <td>#32CD32</td>\n      <td>rgb(50,205,50)</td>\n   </tr>\n   <tr>\n      <td>23</td>\n      <td style=\"background:lime;\">\u00a0</td>\n      <td>lime</td>\n      <td>#00FF00</td>\n      <td>rgb(0.255.0)</td>\n   </tr>\n   <tr>\n      <td>24</td>\n      <td style=\"background:forestgreen;\">\u00a0</td>\n      <td>forestgreen</td>\n      <td>#228B22</td>\n      <td>rgb(34,139,34)</td>\n   </tr>\n   <tr>\n      <td>25</td>\n      <td style=\"background:green;\">\u00a0</td>\n      <td>green</td>\n      <td>#008000</td>\n      <td>rgb(0,128,0)</td>\n   </tr>\n   <tr>\n      <td>26</td>\n      <td style=\"background:powderblue;\">\u00a0</td>\n      <td>powderblue</td>\n      <td>#B0E0E6</td>\n      <td>rgb(176,224,230)</td>\n   </tr>\n   <tr>\n      <td>27</td>\n      <td style=\"background:lightblue;\">\u00a0</td>\n      <td>lightblue</td>\n      <td>#ADD8E6</td>\n      <td>rgb(173,216,230)</td>\n   </tr>\n   <tr>\n      <td>28</td>\n      <td style=\"background:lightskyblue;\">\u00a0</td>\n      <td>lightskyblue</td>\n      <td>#87CEFA</td>\n      <td>rgb(135,206,250)</td>\n   </tr>\n   <tr>\n      <td>29</td>\n      <td style=\"background:skyblue;\">\u00a0</td>\n      <td>skyblue</td>\n      <td>#87CEEB</td>\n      <td>rgb(135,206,235)</td>\n   </tr>\n   <tr>\n      <td>30</td>\n      <td style=\"background:deepskyblue;\">\u00a0</td>\n      <td>deepskyblue</td>\n      <td>#00BFFF</td>\n      <td>rgb(0,191,255)</td>\n   </tr>\n   <tr>\n      <td>31</td>\n      <td style=\"background:lightsteelblue;\">\u00a0</td>\n      <td>lightsteelblue</td>\n      <td>#B0C4DE</td>\n      <td>rgb(176,196,222)</td>\n   </tr>\n   <tr>\n      <td>32</td>\n      <td style=\"background:dodgerblue;\">\u00a0</td>\n      <td>dodgerblue</td>\n      <td>#1E90FF</td>\n      <td>rgb(30,144,255)</td>\n   </tr>\n</tbody></table>"
                    },
                    "metadata": {}
                }
            ]
        },
        {
            "metadata": {},
            "cell_type": "code",
            "source": "#Get all rows from the table\nfor row in table.find_all('tr'): # in html table row is represented by the tag <tr>\n    # Get all columns in each row.\n    cols = row.find_all('td') # in html a column is represented by the tag <td>\n    color_name = cols[2].string # store the value in column 3 as color_name\n    color_code = cols[3].string # store the value in column 4 as color_code\n    print(\"{}--->{}\".format(color_name,color_code))",
            "execution_count": 101,
            "outputs": [
                {
                    "output_type": "stream",
                    "text": "Color Name--->None\nlightsalmon--->#FFA07A\nsalmon--->#FA8072\ndarksalmon--->#E9967A\nlightcoral--->#F08080\ncoral--->#FF7F50\ntomato--->#FF6347\norangered--->#FF4500\ngold--->#FFD700\norange--->#FFA500\ndarkorange--->#FF8C00\nlightyellow--->#FFFFE0\nlemonchiffon--->#FFFACD\npapayawhip--->#FFEFD5\nmoccasin--->#FFE4B5\npeachpuff--->#FFDAB9\npalegoldenrod--->#EEE8AA\nkhaki--->#F0E68C\ndarkkhaki--->#BDB76B\nyellow--->#FFFF00\nlawngreen--->#7CFC00\nchartreuse--->#7FFF00\nlimegreen--->#32CD32\nlime--->#00FF00\nforestgreen--->#228B22\ngreen--->#008000\npowderblue--->#B0E0E6\nlightblue--->#ADD8E6\nlightskyblue--->#87CEFA\nskyblue--->#87CEEB\ndeepskyblue--->#00BFFF\nlightsteelblue--->#B0C4DE\ndodgerblue--->#1E90FF\n",
                    "name": "stdout"
                }
            ]
        },
        {
            "metadata": {},
            "cell_type": "markdown",
            "source": "## Scrape data from HTML tables into a DataFrame using BeautifulSoup and Pandas\n"
        },
        {
            "metadata": {},
            "cell_type": "code",
            "source": "import pandas as pd",
            "execution_count": 102,
            "outputs": []
        },
        {
            "metadata": {},
            "cell_type": "code",
            "source": "#The below url contains html tables with data about world population.\nurl = \"https://en.wikipedia.org/wiki/World_population\"",
            "execution_count": 104,
            "outputs": []
        },
        {
            "metadata": {},
            "cell_type": "markdown",
            "source": "Before proceeding to scrape a web site, you need to examine the contents, and the way data is organized on the website. Open the above url in your browser and check the tables on the webpage.\n"
        },
        {
            "metadata": {},
            "cell_type": "code",
            "source": "# get the contents of the webpage in text format and store in a variable called data\ndata  = requests.get(url).text",
            "execution_count": 105,
            "outputs": []
        },
        {
            "metadata": {},
            "cell_type": "code",
            "source": "soup = BeautifulSoup(data,\"html5lib\")",
            "execution_count": 106,
            "outputs": []
        },
        {
            "metadata": {},
            "cell_type": "code",
            "source": "#find all html tables in the web page\ntables = soup.find_all('table') # in html table is represented by the tag <table>",
            "execution_count": 107,
            "outputs": []
        },
        {
            "metadata": {},
            "cell_type": "code",
            "source": "# we can see how many tables were found by checking the length of the tables list\nlen(tables)",
            "execution_count": 108,
            "outputs": [
                {
                    "output_type": "execute_result",
                    "execution_count": 108,
                    "data": {
                        "text/plain": "26"
                    },
                    "metadata": {}
                }
            ]
        },
        {
            "metadata": {},
            "cell_type": "markdown",
            "source": "Assume that we are looking for the `10 most densly populated countries` table, we can look through the tables list and find the right one we are look for based on the data in each table or we can search for the table name if it is in the table but this option might not always work.\n"
        },
        {
            "metadata": {},
            "cell_type": "code",
            "source": "for index,table in enumerate(tables):\n    if (\"10 most densely populated countries\" in str(table)):\n        table_index = index\nprint(table_index)",
            "execution_count": 109,
            "outputs": [
                {
                    "output_type": "stream",
                    "text": "5\n",
                    "name": "stdout"
                }
            ]
        },
        {
            "metadata": {},
            "cell_type": "markdown",
            "source": "See if you can locate the table name of the table, `10 most densly populated countries`, below.\n"
        },
        {
            "metadata": {},
            "cell_type": "code",
            "source": "print(tables[table_index].prettify())",
            "execution_count": 110,
            "outputs": [
                {
                    "output_type": "stream",
                    "text": "<table class=\"wikitable sortable\" style=\"text-align:right\">\n <caption>\n  10 most densely populated countries\n  <small>\n   (with population above 5 million)\n  </small>\n </caption>\n <tbody>\n  <tr>\n   <th>\n    Rank\n   </th>\n   <th>\n    Country\n   </th>\n   <th>\n    Population\n   </th>\n   <th>\n    Area\n    <br/>\n    <small>\n     (km\n     <sup>\n      2\n     </sup>\n     )\n    </small>\n   </th>\n   <th>\n    Density\n    <br/>\n    <small>\n     (pop/km\n     <sup>\n      2\n     </sup>\n     )\n    </small>\n   </th>\n  </tr>\n  <tr>\n   <td>\n    1\n   </td>\n   <td align=\"left\">\n    <span class=\"flagicon\">\n     <img alt=\"\" class=\"thumbborder\" data-file-height=\"600\" data-file-width=\"900\" decoding=\"async\" height=\"15\" src=\"//upload.wikimedia.org/wikipedia/commons/thumb/4/48/Flag_of_Singapore.svg/23px-Flag_of_Singapore.svg.png\" srcset=\"//upload.wikimedia.org/wikipedia/commons/thumb/4/48/Flag_of_Singapore.svg/35px-Flag_of_Singapore.svg.png 1.5x, //upload.wikimedia.org/wikipedia/commons/thumb/4/48/Flag_of_Singapore.svg/45px-Flag_of_Singapore.svg.png 2x\" width=\"23\"/>\n    </span>\n    <a href=\"/wiki/Singapore\" title=\"Singapore\">\n     Singapore\n    </a>\n   </td>\n   <td>\n    5,704,000\n   </td>\n   <td>\n    710\n   </td>\n   <td>\n    8,033\n   </td>\n  </tr>\n  <tr>\n   <td>\n    2\n   </td>\n   <td align=\"left\">\n    <span class=\"flagicon\">\n     <img alt=\"\" class=\"thumbborder\" data-file-height=\"600\" data-file-width=\"1000\" decoding=\"async\" height=\"14\" src=\"//upload.wikimedia.org/wikipedia/commons/thumb/f/f9/Flag_of_Bangladesh.svg/23px-Flag_of_Bangladesh.svg.png\" srcset=\"//upload.wikimedia.org/wikipedia/commons/thumb/f/f9/Flag_of_Bangladesh.svg/35px-Flag_of_Bangladesh.svg.png 1.5x, //upload.wikimedia.org/wikipedia/commons/thumb/f/f9/Flag_of_Bangladesh.svg/46px-Flag_of_Bangladesh.svg.png 2x\" width=\"23\"/>\n    </span>\n    <a href=\"/wiki/Bangladesh\" title=\"Bangladesh\">\n     Bangladesh\n    </a>\n   </td>\n   <td>\n    171,630,000\n   </td>\n   <td>\n    143,998\n   </td>\n   <td>\n    1,192\n   </td>\n  </tr>\n  <tr>\n   <td>\n    3\n   </td>\n   <td align=\"left\">\n    <p>\n     <span class=\"flagicon\">\n      <img alt=\"\" class=\"thumbborder\" data-file-height=\"600\" data-file-width=\"1200\" decoding=\"async\" height=\"12\" src=\"//upload.wikimedia.org/wikipedia/commons/thumb/0/00/Flag_of_Palestine.svg/23px-Flag_of_Palestine.svg.png\" srcset=\"//upload.wikimedia.org/wikipedia/commons/thumb/0/00/Flag_of_Palestine.svg/35px-Flag_of_Palestine.svg.png 1.5x, //upload.wikimedia.org/wikipedia/commons/thumb/0/00/Flag_of_Palestine.svg/46px-Flag_of_Palestine.svg.png 2x\" width=\"23\"/>\n     </span>\n     <a href=\"/wiki/State_of_Palestine\" title=\"State of Palestine\">\n      Palestine\n     </a>\n    </p>\n   </td>\n   <td>\n    5,266,785\n   </td>\n   <td>\n    6,020\n   </td>\n   <td>\n    847\n   </td>\n  </tr>\n  <tr>\n   <td>\n    4\n   </td>\n   <td align=\"left\">\n    <span class=\"flagicon\">\n     <img alt=\"\" class=\"thumbborder\" data-file-height=\"600\" data-file-width=\"900\" decoding=\"async\" height=\"15\" src=\"//upload.wikimedia.org/wikipedia/commons/thumb/5/59/Flag_of_Lebanon.svg/23px-Flag_of_Lebanon.svg.png\" srcset=\"//upload.wikimedia.org/wikipedia/commons/thumb/5/59/Flag_of_Lebanon.svg/35px-Flag_of_Lebanon.svg.png 1.5x, //upload.wikimedia.org/wikipedia/commons/thumb/5/59/Flag_of_Lebanon.svg/45px-Flag_of_Lebanon.svg.png 2x\" width=\"23\"/>\n    </span>\n    <a href=\"/wiki/Lebanon\" title=\"Lebanon\">\n     Lebanon\n    </a>\n   </td>\n   <td>\n    6,856,000\n   </td>\n   <td>\n    10,452\n   </td>\n   <td>\n    656\n   </td>\n  </tr>\n  <tr>\n   <td>\n    5\n   </td>\n   <td align=\"left\">\n    <span class=\"flagicon\">\n     <img alt=\"\" class=\"thumbborder\" data-file-height=\"600\" data-file-width=\"900\" decoding=\"async\" height=\"15\" src=\"//upload.wikimedia.org/wikipedia/commons/thumb/7/72/Flag_of_the_Republic_of_China.svg/23px-Flag_of_the_Republic_of_China.svg.png\" srcset=\"//upload.wikimedia.org/wikipedia/commons/thumb/7/72/Flag_of_the_Republic_of_China.svg/35px-Flag_of_the_Republic_of_China.svg.png 1.5x, //upload.wikimedia.org/wikipedia/commons/thumb/7/72/Flag_of_the_Republic_of_China.svg/45px-Flag_of_the_Republic_of_China.svg.png 2x\" width=\"23\"/>\n    </span>\n    <a href=\"/wiki/Taiwan\" title=\"Taiwan\">\n     Taiwan\n    </a>\n   </td>\n   <td>\n    23,604,000\n   </td>\n   <td>\n    36,193\n   </td>\n   <td>\n    652\n   </td>\n  </tr>\n  <tr>\n   <td>\n    6\n   </td>\n   <td align=\"left\">\n    <span class=\"flagicon\">\n     <img alt=\"\" class=\"thumbborder\" data-file-height=\"600\" data-file-width=\"900\" decoding=\"async\" height=\"15\" src=\"//upload.wikimedia.org/wikipedia/commons/thumb/0/09/Flag_of_South_Korea.svg/23px-Flag_of_South_Korea.svg.png\" srcset=\"//upload.wikimedia.org/wikipedia/commons/thumb/0/09/Flag_of_South_Korea.svg/35px-Flag_of_South_Korea.svg.png 1.5x, //upload.wikimedia.org/wikipedia/commons/thumb/0/09/Flag_of_South_Korea.svg/45px-Flag_of_South_Korea.svg.png 2x\" width=\"23\"/>\n    </span>\n    <a href=\"/wiki/South_Korea\" title=\"South Korea\">\n     South Korea\n    </a>\n   </td>\n   <td>\n    51,781,000\n   </td>\n   <td>\n    99,538\n   </td>\n   <td>\n    520\n   </td>\n  </tr>\n  <tr>\n   <td>\n    7\n   </td>\n   <td align=\"left\">\n    <span class=\"flagicon\">\n     <img alt=\"\" class=\"thumbborder\" data-file-height=\"720\" data-file-width=\"1080\" decoding=\"async\" height=\"15\" src=\"//upload.wikimedia.org/wikipedia/commons/thumb/1/17/Flag_of_Rwanda.svg/23px-Flag_of_Rwanda.svg.png\" srcset=\"//upload.wikimedia.org/wikipedia/commons/thumb/1/17/Flag_of_Rwanda.svg/35px-Flag_of_Rwanda.svg.png 1.5x, //upload.wikimedia.org/wikipedia/commons/thumb/1/17/Flag_of_Rwanda.svg/45px-Flag_of_Rwanda.svg.png 2x\" width=\"23\"/>\n    </span>\n    <a href=\"/wiki/Rwanda\" title=\"Rwanda\">\n     Rwanda\n    </a>\n   </td>\n   <td>\n    12,374,000\n   </td>\n   <td>\n    26,338\n   </td>\n   <td>\n    470\n   </td>\n  </tr>\n  <tr>\n   <td>\n    8\n   </td>\n   <td align=\"left\">\n    <span class=\"flagicon\">\n     <img alt=\"\" class=\"thumbborder\" data-file-height=\"600\" data-file-width=\"1000\" decoding=\"async\" height=\"14\" src=\"//upload.wikimedia.org/wikipedia/commons/thumb/5/56/Flag_of_Haiti.svg/23px-Flag_of_Haiti.svg.png\" srcset=\"//upload.wikimedia.org/wikipedia/commons/thumb/5/56/Flag_of_Haiti.svg/35px-Flag_of_Haiti.svg.png 1.5x, //upload.wikimedia.org/wikipedia/commons/thumb/5/56/Flag_of_Haiti.svg/46px-Flag_of_Haiti.svg.png 2x\" width=\"23\"/>\n    </span>\n    <a href=\"/wiki/Haiti\" title=\"Haiti\">\n     Haiti\n    </a>\n   </td>\n   <td>\n    11,578,000\n   </td>\n   <td>\n    27,065\n   </td>\n   <td>\n    428\n   </td>\n  </tr>\n  <tr>\n   <td>\n    9\n   </td>\n   <td align=\"left\">\n    <span class=\"flagicon\">\n     <img alt=\"\" class=\"thumbborder\" data-file-height=\"600\" data-file-width=\"900\" decoding=\"async\" height=\"15\" src=\"//upload.wikimedia.org/wikipedia/commons/thumb/2/20/Flag_of_the_Netherlands.svg/23px-Flag_of_the_Netherlands.svg.png\" srcset=\"//upload.wikimedia.org/wikipedia/commons/thumb/2/20/Flag_of_the_Netherlands.svg/35px-Flag_of_the_Netherlands.svg.png 1.5x, //upload.wikimedia.org/wikipedia/commons/thumb/2/20/Flag_of_the_Netherlands.svg/45px-Flag_of_the_Netherlands.svg.png 2x\" width=\"23\"/>\n    </span>\n    <a href=\"/wiki/Netherlands\" title=\"Netherlands\">\n     Netherlands\n    </a>\n   </td>\n   <td>\n    17,650,000\n   </td>\n   <td>\n    41,526\n   </td>\n   <td>\n    425\n   </td>\n  </tr>\n  <tr>\n   <td>\n    10\n   </td>\n   <td align=\"left\">\n    <span class=\"flagicon\">\n     <img alt=\"\" class=\"thumbborder\" data-file-height=\"800\" data-file-width=\"1100\" decoding=\"async\" height=\"15\" src=\"//upload.wikimedia.org/wikipedia/commons/thumb/d/d4/Flag_of_Israel.svg/21px-Flag_of_Israel.svg.png\" srcset=\"//upload.wikimedia.org/wikipedia/commons/thumb/d/d4/Flag_of_Israel.svg/32px-Flag_of_Israel.svg.png 1.5x, //upload.wikimedia.org/wikipedia/commons/thumb/d/d4/Flag_of_Israel.svg/41px-Flag_of_Israel.svg.png 2x\" width=\"21\"/>\n    </span>\n    <a href=\"/wiki/Israel\" title=\"Israel\">\n     Israel\n    </a>\n   </td>\n   <td>\n    9,420,000\n   </td>\n   <td>\n    22,072\n   </td>\n   <td>\n    427\n   </td>\n  </tr>\n </tbody>\n</table>\n\n",
                    "name": "stdout"
                }
            ]
        },
        {
            "metadata": {},
            "cell_type": "code",
            "source": "population_data = pd.DataFrame(columns=[\"Rank\", \"Country\", \"Population\", \"Area\", \"Density\"])\n\nfor row in tables[table_index].tbody.find_all(\"tr\"):\n    col = row.find_all(\"td\")\n    if (col != []):\n        rank = col[0].text\n        country = col[1].text\n        population = col[2].text.strip()\n        area = col[3].text.strip()\n        density = col[4].text.strip()\n        population_data = population_data.append({\"Rank\":rank, \"Country\":country, \"Population\":population, \"Area\":area, \"Density\":density}, ignore_index=True)\n\npopulation_data",
            "execution_count": 111,
            "outputs": [
                {
                    "output_type": "execute_result",
                    "execution_count": 111,
                    "data": {
                        "text/plain": "  Rank           Country   Population     Area Density\n0    1        \u00a0Singapore    5,704,000      710   8,033\n1    2       \u00a0Bangladesh  171,630,000  143,998   1,192\n2    3  \\n\u00a0Palestine\\n\\n    5,266,785    6,020     847\n3    4          \u00a0Lebanon    6,856,000   10,452     656\n4    5           \u00a0Taiwan   23,604,000   36,193     652\n5    6      \u00a0South Korea   51,781,000   99,538     520\n6    7           \u00a0Rwanda   12,374,000   26,338     470\n7    8            \u00a0Haiti   11,578,000   27,065     428\n8    9      \u00a0Netherlands   17,650,000   41,526     425\n9   10           \u00a0Israel    9,420,000   22,072     427",
                        "text/html": "<div>\n<style scoped>\n    .dataframe tbody tr th:only-of-type {\n        vertical-align: middle;\n    }\n\n    .dataframe tbody tr th {\n        vertical-align: top;\n    }\n\n    .dataframe thead th {\n        text-align: right;\n    }\n</style>\n<table border=\"1\" class=\"dataframe\">\n  <thead>\n    <tr style=\"text-align: right;\">\n      <th></th>\n      <th>Rank</th>\n      <th>Country</th>\n      <th>Population</th>\n      <th>Area</th>\n      <th>Density</th>\n    </tr>\n  </thead>\n  <tbody>\n    <tr>\n      <th>0</th>\n      <td>1</td>\n      <td>Singapore</td>\n      <td>5,704,000</td>\n      <td>710</td>\n      <td>8,033</td>\n    </tr>\n    <tr>\n      <th>1</th>\n      <td>2</td>\n      <td>Bangladesh</td>\n      <td>171,630,000</td>\n      <td>143,998</td>\n      <td>1,192</td>\n    </tr>\n    <tr>\n      <th>2</th>\n      <td>3</td>\n      <td>\\n\u00a0Palestine\\n\\n</td>\n      <td>5,266,785</td>\n      <td>6,020</td>\n      <td>847</td>\n    </tr>\n    <tr>\n      <th>3</th>\n      <td>4</td>\n      <td>Lebanon</td>\n      <td>6,856,000</td>\n      <td>10,452</td>\n      <td>656</td>\n    </tr>\n    <tr>\n      <th>4</th>\n      <td>5</td>\n      <td>Taiwan</td>\n      <td>23,604,000</td>\n      <td>36,193</td>\n      <td>652</td>\n    </tr>\n    <tr>\n      <th>5</th>\n      <td>6</td>\n      <td>South Korea</td>\n      <td>51,781,000</td>\n      <td>99,538</td>\n      <td>520</td>\n    </tr>\n    <tr>\n      <th>6</th>\n      <td>7</td>\n      <td>Rwanda</td>\n      <td>12,374,000</td>\n      <td>26,338</td>\n      <td>470</td>\n    </tr>\n    <tr>\n      <th>7</th>\n      <td>8</td>\n      <td>Haiti</td>\n      <td>11,578,000</td>\n      <td>27,065</td>\n      <td>428</td>\n    </tr>\n    <tr>\n      <th>8</th>\n      <td>9</td>\n      <td>Netherlands</td>\n      <td>17,650,000</td>\n      <td>41,526</td>\n      <td>425</td>\n    </tr>\n    <tr>\n      <th>9</th>\n      <td>10</td>\n      <td>Israel</td>\n      <td>9,420,000</td>\n      <td>22,072</td>\n      <td>427</td>\n    </tr>\n  </tbody>\n</table>\n</div>"
                    },
                    "metadata": {}
                }
            ]
        },
        {
            "metadata": {},
            "cell_type": "markdown",
            "source": "## Scrape data from HTML tables into a DataFrame using BeautifulSoup and read_html\n"
        },
        {
            "metadata": {},
            "cell_type": "markdown",
            "source": "Using the same `url`, `data`, `soup`, and `tables` object as in the last section we can use the `read_html` function to create a DataFrame.\n\nRemember the table we need is located in `tables[table_index]`\n\nWe can now use the `pandas` function `read_html` and give it the string version of the table as well as the `flavor` which is the parsing engine `bs4`.\n"
        },
        {
            "metadata": {},
            "cell_type": "code",
            "source": "pd.read_html(str(tables[5]), flavor='bs4')",
            "execution_count": 112,
            "outputs": [
                {
                    "output_type": "execute_result",
                    "execution_count": 112,
                    "data": {
                        "text/plain": "[   Rank      Country  Population  Area(km2)  Density(pop/km2)\n 0     1    Singapore     5704000        710              8033\n 1     2   Bangladesh   171630000     143998              1192\n 2     3    Palestine     5266785       6020               847\n 3     4      Lebanon     6856000      10452               656\n 4     5       Taiwan    23604000      36193               652\n 5     6  South Korea    51781000      99538               520\n 6     7       Rwanda    12374000      26338               470\n 7     8        Haiti    11578000      27065               428\n 8     9  Netherlands    17650000      41526               425\n 9    10       Israel     9420000      22072               427]"
                    },
                    "metadata": {}
                }
            ]
        },
        {
            "metadata": {},
            "cell_type": "markdown",
            "source": "The function `read_html` always returns a list of DataFrames so we must pick the one we want out of the list.\n"
        },
        {
            "metadata": {},
            "cell_type": "code",
            "source": "population_data_read_html = pd.read_html(str(tables[5]), flavor='bs4')[0]\n\npopulation_data_read_html",
            "execution_count": 117,
            "outputs": [
                {
                    "output_type": "execute_result",
                    "execution_count": 117,
                    "data": {
                        "text/plain": "   Rank      Country  Population  Area(km2)  Density(pop/km2)\n0     1    Singapore     5704000        710              8033\n1     2   Bangladesh   171630000     143998              1192\n2     3    Palestine     5266785       6020               847\n3     4      Lebanon     6856000      10452               656\n4     5       Taiwan    23604000      36193               652\n5     6  South Korea    51781000      99538               520\n6     7       Rwanda    12374000      26338               470\n7     8        Haiti    11578000      27065               428\n8     9  Netherlands    17650000      41526               425\n9    10       Israel     9420000      22072               427",
                        "text/html": "<div>\n<style scoped>\n    .dataframe tbody tr th:only-of-type {\n        vertical-align: middle;\n    }\n\n    .dataframe tbody tr th {\n        vertical-align: top;\n    }\n\n    .dataframe thead th {\n        text-align: right;\n    }\n</style>\n<table border=\"1\" class=\"dataframe\">\n  <thead>\n    <tr style=\"text-align: right;\">\n      <th></th>\n      <th>Rank</th>\n      <th>Country</th>\n      <th>Population</th>\n      <th>Area(km2)</th>\n      <th>Density(pop/km2)</th>\n    </tr>\n  </thead>\n  <tbody>\n    <tr>\n      <th>0</th>\n      <td>1</td>\n      <td>Singapore</td>\n      <td>5704000</td>\n      <td>710</td>\n      <td>8033</td>\n    </tr>\n    <tr>\n      <th>1</th>\n      <td>2</td>\n      <td>Bangladesh</td>\n      <td>171630000</td>\n      <td>143998</td>\n      <td>1192</td>\n    </tr>\n    <tr>\n      <th>2</th>\n      <td>3</td>\n      <td>Palestine</td>\n      <td>5266785</td>\n      <td>6020</td>\n      <td>847</td>\n    </tr>\n    <tr>\n      <th>3</th>\n      <td>4</td>\n      <td>Lebanon</td>\n      <td>6856000</td>\n      <td>10452</td>\n      <td>656</td>\n    </tr>\n    <tr>\n      <th>4</th>\n      <td>5</td>\n      <td>Taiwan</td>\n      <td>23604000</td>\n      <td>36193</td>\n      <td>652</td>\n    </tr>\n    <tr>\n      <th>5</th>\n      <td>6</td>\n      <td>South Korea</td>\n      <td>51781000</td>\n      <td>99538</td>\n      <td>520</td>\n    </tr>\n    <tr>\n      <th>6</th>\n      <td>7</td>\n      <td>Rwanda</td>\n      <td>12374000</td>\n      <td>26338</td>\n      <td>470</td>\n    </tr>\n    <tr>\n      <th>7</th>\n      <td>8</td>\n      <td>Haiti</td>\n      <td>11578000</td>\n      <td>27065</td>\n      <td>428</td>\n    </tr>\n    <tr>\n      <th>8</th>\n      <td>9</td>\n      <td>Netherlands</td>\n      <td>17650000</td>\n      <td>41526</td>\n      <td>425</td>\n    </tr>\n    <tr>\n      <th>9</th>\n      <td>10</td>\n      <td>Israel</td>\n      <td>9420000</td>\n      <td>22072</td>\n      <td>427</td>\n    </tr>\n  </tbody>\n</table>\n</div>"
                    },
                    "metadata": {}
                }
            ]
        },
        {
            "metadata": {},
            "cell_type": "markdown",
            "source": "## Scrape data from HTML tables into a DataFrame using read_html\n"
        },
        {
            "metadata": {},
            "cell_type": "markdown",
            "source": "We can also use the `read_html` function to directly get DataFrames from a `url`.\n"
        },
        {
            "metadata": {},
            "cell_type": "code",
            "source": "dataframe_list = pd.read_html(url, flavor='bs4')",
            "execution_count": 118,
            "outputs": []
        },
        {
            "metadata": {},
            "cell_type": "markdown",
            "source": "We can see there are 25 DataFrames just like when we used `find_all` on the `soup` object.\n"
        },
        {
            "metadata": {},
            "cell_type": "code",
            "source": "len(dataframe_list)",
            "execution_count": 119,
            "outputs": [
                {
                    "output_type": "execute_result",
                    "execution_count": 119,
                    "data": {
                        "text/plain": "26"
                    },
                    "metadata": {}
                }
            ]
        },
        {
            "metadata": {},
            "cell_type": "markdown",
            "source": "Finally we can pick the DataFrame we need out of the list.\n"
        },
        {
            "metadata": {},
            "cell_type": "code",
            "source": "dataframe_list[5]",
            "execution_count": 120,
            "outputs": [
                {
                    "output_type": "execute_result",
                    "execution_count": 120,
                    "data": {
                        "text/plain": "   Rank      Country  Population  Area(km2)  Density(pop/km2)\n0     1    Singapore     5704000        710              8033\n1     2   Bangladesh   171630000     143998              1192\n2     3    Palestine     5266785       6020               847\n3     4      Lebanon     6856000      10452               656\n4     5       Taiwan    23604000      36193               652\n5     6  South Korea    51781000      99538               520\n6     7       Rwanda    12374000      26338               470\n7     8        Haiti    11578000      27065               428\n8     9  Netherlands    17650000      41526               425\n9    10       Israel     9420000      22072               427",
                        "text/html": "<div>\n<style scoped>\n    .dataframe tbody tr th:only-of-type {\n        vertical-align: middle;\n    }\n\n    .dataframe tbody tr th {\n        vertical-align: top;\n    }\n\n    .dataframe thead th {\n        text-align: right;\n    }\n</style>\n<table border=\"1\" class=\"dataframe\">\n  <thead>\n    <tr style=\"text-align: right;\">\n      <th></th>\n      <th>Rank</th>\n      <th>Country</th>\n      <th>Population</th>\n      <th>Area(km2)</th>\n      <th>Density(pop/km2)</th>\n    </tr>\n  </thead>\n  <tbody>\n    <tr>\n      <th>0</th>\n      <td>1</td>\n      <td>Singapore</td>\n      <td>5704000</td>\n      <td>710</td>\n      <td>8033</td>\n    </tr>\n    <tr>\n      <th>1</th>\n      <td>2</td>\n      <td>Bangladesh</td>\n      <td>171630000</td>\n      <td>143998</td>\n      <td>1192</td>\n    </tr>\n    <tr>\n      <th>2</th>\n      <td>3</td>\n      <td>Palestine</td>\n      <td>5266785</td>\n      <td>6020</td>\n      <td>847</td>\n    </tr>\n    <tr>\n      <th>3</th>\n      <td>4</td>\n      <td>Lebanon</td>\n      <td>6856000</td>\n      <td>10452</td>\n      <td>656</td>\n    </tr>\n    <tr>\n      <th>4</th>\n      <td>5</td>\n      <td>Taiwan</td>\n      <td>23604000</td>\n      <td>36193</td>\n      <td>652</td>\n    </tr>\n    <tr>\n      <th>5</th>\n      <td>6</td>\n      <td>South Korea</td>\n      <td>51781000</td>\n      <td>99538</td>\n      <td>520</td>\n    </tr>\n    <tr>\n      <th>6</th>\n      <td>7</td>\n      <td>Rwanda</td>\n      <td>12374000</td>\n      <td>26338</td>\n      <td>470</td>\n    </tr>\n    <tr>\n      <th>7</th>\n      <td>8</td>\n      <td>Haiti</td>\n      <td>11578000</td>\n      <td>27065</td>\n      <td>428</td>\n    </tr>\n    <tr>\n      <th>8</th>\n      <td>9</td>\n      <td>Netherlands</td>\n      <td>17650000</td>\n      <td>41526</td>\n      <td>425</td>\n    </tr>\n    <tr>\n      <th>9</th>\n      <td>10</td>\n      <td>Israel</td>\n      <td>9420000</td>\n      <td>22072</td>\n      <td>427</td>\n    </tr>\n  </tbody>\n</table>\n</div>"
                    },
                    "metadata": {}
                }
            ]
        },
        {
            "metadata": {},
            "cell_type": "markdown",
            "source": "We can also use the `match` parameter to select the specific table we want. If the table contains a string matching the text it will be read.\n"
        },
        {
            "metadata": {},
            "cell_type": "code",
            "source": "pd.read_html(url, match=\"10 most densely populated countries\", flavor='bs4')[0]",
            "execution_count": 124,
            "outputs": [
                {
                    "output_type": "execute_result",
                    "execution_count": 124,
                    "data": {
                        "text/plain": "   Rank      Country  Population  Area(km2)  Density(pop/km2)\n0     1    Singapore     5704000        710              8033\n1     2   Bangladesh   171630000     143998              1192\n2     3    Palestine     5266785       6020               847\n3     4      Lebanon     6856000      10452               656\n4     5       Taiwan    23604000      36193               652\n5     6  South Korea    51781000      99538               520\n6     7       Rwanda    12374000      26338               470\n7     8        Haiti    11578000      27065               428\n8     9  Netherlands    17650000      41526               425\n9    10       Israel     9420000      22072               427",
                        "text/html": "<div>\n<style scoped>\n    .dataframe tbody tr th:only-of-type {\n        vertical-align: middle;\n    }\n\n    .dataframe tbody tr th {\n        vertical-align: top;\n    }\n\n    .dataframe thead th {\n        text-align: right;\n    }\n</style>\n<table border=\"1\" class=\"dataframe\">\n  <thead>\n    <tr style=\"text-align: right;\">\n      <th></th>\n      <th>Rank</th>\n      <th>Country</th>\n      <th>Population</th>\n      <th>Area(km2)</th>\n      <th>Density(pop/km2)</th>\n    </tr>\n  </thead>\n  <tbody>\n    <tr>\n      <th>0</th>\n      <td>1</td>\n      <td>Singapore</td>\n      <td>5704000</td>\n      <td>710</td>\n      <td>8033</td>\n    </tr>\n    <tr>\n      <th>1</th>\n      <td>2</td>\n      <td>Bangladesh</td>\n      <td>171630000</td>\n      <td>143998</td>\n      <td>1192</td>\n    </tr>\n    <tr>\n      <th>2</th>\n      <td>3</td>\n      <td>Palestine</td>\n      <td>5266785</td>\n      <td>6020</td>\n      <td>847</td>\n    </tr>\n    <tr>\n      <th>3</th>\n      <td>4</td>\n      <td>Lebanon</td>\n      <td>6856000</td>\n      <td>10452</td>\n      <td>656</td>\n    </tr>\n    <tr>\n      <th>4</th>\n      <td>5</td>\n      <td>Taiwan</td>\n      <td>23604000</td>\n      <td>36193</td>\n      <td>652</td>\n    </tr>\n    <tr>\n      <th>5</th>\n      <td>6</td>\n      <td>South Korea</td>\n      <td>51781000</td>\n      <td>99538</td>\n      <td>520</td>\n    </tr>\n    <tr>\n      <th>6</th>\n      <td>7</td>\n      <td>Rwanda</td>\n      <td>12374000</td>\n      <td>26338</td>\n      <td>470</td>\n    </tr>\n    <tr>\n      <th>7</th>\n      <td>8</td>\n      <td>Haiti</td>\n      <td>11578000</td>\n      <td>27065</td>\n      <td>428</td>\n    </tr>\n    <tr>\n      <th>8</th>\n      <td>9</td>\n      <td>Netherlands</td>\n      <td>17650000</td>\n      <td>41526</td>\n      <td>425</td>\n    </tr>\n    <tr>\n      <th>9</th>\n      <td>10</td>\n      <td>Israel</td>\n      <td>9420000</td>\n      <td>22072</td>\n      <td>427</td>\n    </tr>\n  </tbody>\n</table>\n</div>"
                    },
                    "metadata": {}
                }
            ]
        },
        {
            "metadata": {},
            "cell_type": "markdown",
            "source": "## Authors\n"
        },
        {
            "metadata": {},
            "cell_type": "markdown",
            "source": "Ramesh Sannareddy\n"
        },
        {
            "metadata": {},
            "cell_type": "markdown",
            "source": "### Other Contributors\n"
        },
        {
            "metadata": {},
            "cell_type": "markdown",
            "source": "Rav Ahuja\n"
        },
        {
            "metadata": {},
            "cell_type": "markdown",
            "source": "## Change Log\n"
        },
        {
            "metadata": {},
            "cell_type": "markdown",
            "source": "| Date (YYYY-MM-DD) | Version | Changed By                                               | Change Description |\n| ----------------- | ------- | -------------------------------------------------------- | ------------------ |\n| 2021-08-04        | 0.2     | Made changes to markdown of nextsibling                  |                    |\n| 2020-10-17        | 0.1     | Joseph Santarcangelo  Created initial version of the lab |                    |\n"
        },
        {
            "metadata": {},
            "cell_type": "markdown",
            "source": "Copyright \u00a9 2020 IBM Corporation. This notebook and its source code are released under the terms of the [MIT License](https://cognitiveclass.ai/mit-license?utm_medium=Exinfluencer&utm_source=Exinfluencer&utm_content=000026UJ&utm_term=10006555&utm_id=NA-SkillsNetwork-Channel-SkillsNetworkCoursesIBMDeveloperSkillsNetworkPY0220ENSkillsNetwork23455606-2021-01-01&cm_mmc=Email_Newsletter-\\_-Developer_Ed%2BTech-\\_-WW_WW-\\_-SkillsNetwork-Courses-IBMDeveloperSkillsNetwork-PY0101EN-SkillsNetwork-19487395&cm_mmca1=000026UJ&cm_mmca2=10006555&cm_mmca3=M12345678&cvosrc=email.Newsletter.M12345678&cvo_campaign=000026UJ).\n"
        }
    ],
    "metadata": {
        "kernelspec": {
            "name": "python3",
            "display_name": "Python 3.8",
            "language": "python"
        },
        "language_info": {
            "name": "python",
            "version": "3.8.11",
            "mimetype": "text/x-python",
            "codemirror_mode": {
                "name": "ipython",
                "version": 3
            },
            "pygments_lexer": "ipython3",
            "nbconvert_exporter": "python",
            "file_extension": ".py"
        }
    },
    "nbformat": 4,
    "nbformat_minor": 4
}
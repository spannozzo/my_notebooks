{
    "cells": [
        {
            "cell_type": "markdown",
            "metadata": {
                "collapsed": true
            },
            "source": "# Description\n\nMy first panda view"
        },
        {
            "cell_type": "code",
            "execution_count": 3,
            "metadata": {},
            "outputs": [
                {
                    "data": {
                        "text/html": "<div>\n<style scoped>\n    .dataframe tbody tr th:only-of-type {\n        vertical-align: middle;\n    }\n\n    .dataframe tbody tr th {\n        vertical-align: top;\n    }\n\n    .dataframe thead th {\n        text-align: right;\n    }\n</style>\n<table border=\"1\" class=\"dataframe\">\n  <thead>\n    <tr style=\"text-align: right;\">\n      <th></th>\n      <th>MinTemp</th>\n      <th>MaxTemp</th>\n      <th>Rainfall</th>\n      <th>Evaporation</th>\n      <th>Sunshine</th>\n      <th>WindGustDir</th>\n      <th>WindGustSpeed</th>\n      <th>WindDir9am</th>\n      <th>WindDir3pm</th>\n      <th>WindSpeed9am</th>\n      <th>...</th>\n      <th>Humidity3pm</th>\n      <th>Pressure9am</th>\n      <th>Pressure3pm</th>\n      <th>Cloud9am</th>\n      <th>Cloud3pm</th>\n      <th>Temp9am</th>\n      <th>Temp3pm</th>\n      <th>RainToday</th>\n      <th>RISK_MM</th>\n      <th>RainTomorrow</th>\n    </tr>\n  </thead>\n  <tbody>\n    <tr>\n      <th>0</th>\n      <td>8.0</td>\n      <td>24.3</td>\n      <td>0.0</td>\n      <td>3.4</td>\n      <td>6.3</td>\n      <td>NW</td>\n      <td>30.0</td>\n      <td>SW</td>\n      <td>NW</td>\n      <td>6.0</td>\n      <td>...</td>\n      <td>29</td>\n      <td>1019.7</td>\n      <td>1015.0</td>\n      <td>7</td>\n      <td>7</td>\n      <td>14.4</td>\n      <td>23.6</td>\n      <td>No</td>\n      <td>3.6</td>\n      <td>Yes</td>\n    </tr>\n    <tr>\n      <th>1</th>\n      <td>14.0</td>\n      <td>26.9</td>\n      <td>3.6</td>\n      <td>4.4</td>\n      <td>9.7</td>\n      <td>ENE</td>\n      <td>39.0</td>\n      <td>E</td>\n      <td>W</td>\n      <td>4.0</td>\n      <td>...</td>\n      <td>36</td>\n      <td>1012.4</td>\n      <td>1008.4</td>\n      <td>5</td>\n      <td>3</td>\n      <td>17.5</td>\n      <td>25.7</td>\n      <td>Yes</td>\n      <td>3.6</td>\n      <td>Yes</td>\n    </tr>\n    <tr>\n      <th>2</th>\n      <td>13.7</td>\n      <td>23.4</td>\n      <td>3.6</td>\n      <td>5.8</td>\n      <td>3.3</td>\n      <td>NW</td>\n      <td>85.0</td>\n      <td>N</td>\n      <td>NNE</td>\n      <td>6.0</td>\n      <td>...</td>\n      <td>69</td>\n      <td>1009.5</td>\n      <td>1007.2</td>\n      <td>8</td>\n      <td>7</td>\n      <td>15.4</td>\n      <td>20.2</td>\n      <td>Yes</td>\n      <td>39.8</td>\n      <td>Yes</td>\n    </tr>\n    <tr>\n      <th>3</th>\n      <td>13.3</td>\n      <td>15.5</td>\n      <td>39.8</td>\n      <td>7.2</td>\n      <td>9.1</td>\n      <td>NW</td>\n      <td>54.0</td>\n      <td>WNW</td>\n      <td>W</td>\n      <td>30.0</td>\n      <td>...</td>\n      <td>56</td>\n      <td>1005.5</td>\n      <td>1007.0</td>\n      <td>2</td>\n      <td>7</td>\n      <td>13.5</td>\n      <td>14.1</td>\n      <td>Yes</td>\n      <td>2.8</td>\n      <td>Yes</td>\n    </tr>\n    <tr>\n      <th>4</th>\n      <td>7.6</td>\n      <td>16.1</td>\n      <td>2.8</td>\n      <td>5.6</td>\n      <td>10.6</td>\n      <td>SSE</td>\n      <td>50.0</td>\n      <td>SSE</td>\n      <td>ESE</td>\n      <td>20.0</td>\n      <td>...</td>\n      <td>49</td>\n      <td>1018.3</td>\n      <td>1018.5</td>\n      <td>7</td>\n      <td>7</td>\n      <td>11.1</td>\n      <td>15.4</td>\n      <td>Yes</td>\n      <td>0.0</td>\n      <td>No</td>\n    </tr>\n    <tr>\n      <th>5</th>\n      <td>6.2</td>\n      <td>16.9</td>\n      <td>0.0</td>\n      <td>5.8</td>\n      <td>8.2</td>\n      <td>SE</td>\n      <td>44.0</td>\n      <td>SE</td>\n      <td>E</td>\n      <td>20.0</td>\n      <td>...</td>\n      <td>57</td>\n      <td>1023.8</td>\n      <td>1021.7</td>\n      <td>7</td>\n      <td>5</td>\n      <td>10.9</td>\n      <td>14.8</td>\n      <td>No</td>\n      <td>0.2</td>\n      <td>No</td>\n    </tr>\n    <tr>\n      <th>6</th>\n      <td>6.1</td>\n      <td>18.2</td>\n      <td>0.2</td>\n      <td>4.2</td>\n      <td>8.4</td>\n      <td>SE</td>\n      <td>43.0</td>\n      <td>SE</td>\n      <td>ESE</td>\n      <td>19.0</td>\n      <td>...</td>\n      <td>47</td>\n      <td>1024.6</td>\n      <td>1022.2</td>\n      <td>4</td>\n      <td>6</td>\n      <td>12.4</td>\n      <td>17.3</td>\n      <td>No</td>\n      <td>0.0</td>\n      <td>No</td>\n    </tr>\n    <tr>\n      <th>7</th>\n      <td>8.3</td>\n      <td>17.0</td>\n      <td>0.0</td>\n      <td>5.6</td>\n      <td>4.6</td>\n      <td>E</td>\n      <td>41.0</td>\n      <td>SE</td>\n      <td>E</td>\n      <td>11.0</td>\n      <td>...</td>\n      <td>57</td>\n      <td>1026.2</td>\n      <td>1024.2</td>\n      <td>6</td>\n      <td>7</td>\n      <td>12.1</td>\n      <td>15.5</td>\n      <td>No</td>\n      <td>0.0</td>\n      <td>No</td>\n    </tr>\n    <tr>\n      <th>8</th>\n      <td>8.8</td>\n      <td>19.5</td>\n      <td>0.0</td>\n      <td>4.0</td>\n      <td>4.1</td>\n      <td>S</td>\n      <td>48.0</td>\n      <td>E</td>\n      <td>ENE</td>\n      <td>19.0</td>\n      <td>...</td>\n      <td>48</td>\n      <td>1026.1</td>\n      <td>1022.7</td>\n      <td>7</td>\n      <td>7</td>\n      <td>14.1</td>\n      <td>18.9</td>\n      <td>No</td>\n      <td>16.2</td>\n      <td>Yes</td>\n    </tr>\n    <tr>\n      <th>9</th>\n      <td>8.4</td>\n      <td>22.8</td>\n      <td>16.2</td>\n      <td>5.4</td>\n      <td>7.7</td>\n      <td>E</td>\n      <td>31.0</td>\n      <td>S</td>\n      <td>ESE</td>\n      <td>7.0</td>\n      <td>...</td>\n      <td>32</td>\n      <td>1024.1</td>\n      <td>1020.7</td>\n      <td>7</td>\n      <td>1</td>\n      <td>13.3</td>\n      <td>21.7</td>\n      <td>Yes</td>\n      <td>0.0</td>\n      <td>No</td>\n    </tr>\n  </tbody>\n</table>\n<p>10 rows \u00d7 22 columns</p>\n</div>",
                        "text/plain": "   MinTemp  MaxTemp  Rainfall  Evaporation  Sunshine WindGustDir  \\\n0      8.0     24.3       0.0          3.4       6.3          NW   \n1     14.0     26.9       3.6          4.4       9.7         ENE   \n2     13.7     23.4       3.6          5.8       3.3          NW   \n3     13.3     15.5      39.8          7.2       9.1          NW   \n4      7.6     16.1       2.8          5.6      10.6         SSE   \n5      6.2     16.9       0.0          5.8       8.2          SE   \n6      6.1     18.2       0.2          4.2       8.4          SE   \n7      8.3     17.0       0.0          5.6       4.6           E   \n8      8.8     19.5       0.0          4.0       4.1           S   \n9      8.4     22.8      16.2          5.4       7.7           E   \n\n   WindGustSpeed WindDir9am WindDir3pm  WindSpeed9am  ...  Humidity3pm  \\\n0           30.0         SW         NW           6.0  ...           29   \n1           39.0          E          W           4.0  ...           36   \n2           85.0          N        NNE           6.0  ...           69   \n3           54.0        WNW          W          30.0  ...           56   \n4           50.0        SSE        ESE          20.0  ...           49   \n5           44.0         SE          E          20.0  ...           57   \n6           43.0         SE        ESE          19.0  ...           47   \n7           41.0         SE          E          11.0  ...           57   \n8           48.0          E        ENE          19.0  ...           48   \n9           31.0          S        ESE           7.0  ...           32   \n\n   Pressure9am  Pressure3pm  Cloud9am  Cloud3pm  Temp9am  Temp3pm  RainToday  \\\n0       1019.7       1015.0         7         7     14.4     23.6         No   \n1       1012.4       1008.4         5         3     17.5     25.7        Yes   \n2       1009.5       1007.2         8         7     15.4     20.2        Yes   \n3       1005.5       1007.0         2         7     13.5     14.1        Yes   \n4       1018.3       1018.5         7         7     11.1     15.4        Yes   \n5       1023.8       1021.7         7         5     10.9     14.8         No   \n6       1024.6       1022.2         4         6     12.4     17.3         No   \n7       1026.2       1024.2         6         7     12.1     15.5         No   \n8       1026.1       1022.7         7         7     14.1     18.9         No   \n9       1024.1       1020.7         7         1     13.3     21.7        Yes   \n\n   RISK_MM RainTomorrow  \n0      3.6          Yes  \n1      3.6          Yes  \n2     39.8          Yes  \n3      2.8          Yes  \n4      0.0           No  \n5      0.2           No  \n6      0.0           No  \n7      0.0           No  \n8     16.2          Yes  \n9      0.0           No  \n\n[10 rows x 22 columns]"
                    },
                    "execution_count": 3,
                    "metadata": {},
                    "output_type": "execute_result"
                }
            ],
            "source": "# The code was removed by Watson Studio for sharing."
        },
        {
            "cell_type": "code",
            "execution_count": null,
            "metadata": {},
            "outputs": [],
            "source": ""
        }
    ],
    "metadata": {
        "kernelspec": {
            "display_name": "Python 3.8",
            "language": "python",
            "name": "python3"
        },
        "language_info": {
            "codemirror_mode": {
                "name": "ipython",
                "version": 3
            },
            "file_extension": ".py",
            "mimetype": "text/x-python",
            "name": "python",
            "nbconvert_exporter": "python",
            "pygments_lexer": "ipython3",
            "version": "3.8.11"
        }
    },
    "nbformat": 4,
    "nbformat_minor": 1
}